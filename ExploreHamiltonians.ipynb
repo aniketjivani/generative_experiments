{
  "nbformat": 4,
  "nbformat_minor": 0,
  "metadata": {
    "colab": {
      "provenance": [],
      "authorship_tag": "ABX9TyO5ICiyHRzsZCqiPHW66ysa",
      "include_colab_link": true
    },
    "kernelspec": {
      "name": "python3",
      "display_name": "Python 3"
    },
    "language_info": {
      "name": "python"
    }
  },
  "cells": [
    {
      "cell_type": "markdown",
      "metadata": {
        "id": "view-in-github",
        "colab_type": "text"
      },
      "source": [
        "<a href=\"https://colab.research.google.com/github/aniketjivani/generative_experiments/blob/master/ExploreHamiltonians.ipynb\" target=\"_parent\"><img src=\"https://colab.research.google.com/assets/colab-badge.svg\" alt=\"Open In Colab\"/></a>"
      ]
    },
    {
      "cell_type": "markdown",
      "source": [
        "My somewhat silly attempt at a self-contained tutorial 🕵 on NNs + conservations laws + \"real\" applications. Hope this is useful! Things that are unclear to me or where potential connections need more investigation are highlighted in red, and there's plenty of these."
      ],
      "metadata": {
        "id": "Ktot1J2UiC63"
      }
    },
    {
      "cell_type": "markdown",
      "source": [
        "Hamiltonian mechanics is a branch of physics concerned with conservation laws and invariances. There is considerable interest in using deep neural networks to model dynamical systems, whether for system identification or long-term prediction purposes. Existing neural networks that are used to model dynamical systems, irrespective of whether they predict states in discrete timesteps or in a continuous fashion, do not learn exact conservation laws or invariant quantities - to quote one of the papers below, they may drift away from the true dynamics of the system as small errors accumulate.\n",
        "\n",
        "One motivating work for this is the section on Hyperbolic CNNs from Ruthotto and Haber (https://doi.org/10.1007/s10851-019-00903-1) although their work only addresses parameter-efficient training of networks for image-classification type problems.\n",
        "\n",
        "The methods we will see next, namely:\n",
        "\n",
        "1. Hamiltonian NN (https://arxiv.org/abs/1906.01563) (see 🤦 P.S.)\n",
        "\n",
        "2. Symplectic ODE Nets (https://arxiv.org/abs/1909.12077)\n",
        "\n",
        "3. TRS-ODEN (https://arxiv.org/abs/2007.11362)\n",
        "\n",
        "4. Hamiltonian OpInf (https://arxiv.org/abs/2107.12996)\n",
        "\n",
        "are different types of neural network architectures / reduced-order models that attempt to endow models with better inductive biases, in the expectation that the resulting trained model can generalize better and enjoy predictable longer time rollouts.\n",
        "\n",
        "We will start with the following questions:\n",
        "\n",
        "a. What is the Hamiltonian? How do we interpret it in terms of conservation laws?\n",
        "\n",
        "b. What is symplectic integration? How does it tie in to Hamiltonian mechanics?\n",
        "\n",
        "c. How do we write out the Hamiltonian for different systems of interest?\n",
        "\n",
        "d. How do we learn it from data without explicit knowledge of its functional form? How do these approaches scale and what are interesting applications?\n",
        "\n",
        "e. What is the typical improvement seen by enforcing the Hamiltonian in predictions over time?\n",
        "\n",
        "\n",
        "🤦 P.S. Btw, there's Lagrangian Neural Networks too, though my rudimentary understanding is that this is more for convenience of representation rather than any specific advantage: you can [obtain the Hamiltonian from the Lagrangian](https://physics.stackexchange.com/questions/190471/constructing-lagrangian-from-the-hamiltonian) - see https://greydanus.github.io/2020/03/10/lagrangian-nns . Their [GitHub](https://github.com/MilesCranmer/lagrangian_nns) also helps sum up the hype nicely if you doubt the claims 😏\n",
        "\n",
        "|\t| Neural Networks  | [Neural ODEs](https://arxiv.org/abs/1806.07366) | [HNNs](https://arxiv.org/abs/1906.01563)  | [DeLaN (ICLR'19)](https://arxiv.org/abs/1907.04490) | LNNs (this work) |\n",
        "| ------------- |:------------:| :------------:| :------------:| :------------:| :------------:|\n",
        "| Can model dynamical systems | ✔ | ✔ | ✔ | ✔ | ✔ |\n",
        "| Learns differential equations | | ✔ | ✔ | ✔ | ✔ |\n",
        "| Learns exact conservation laws | | | ✔ | ✔ | ✔ |\n",
        "| Learns from arbitrary coords. |✔ | ✔|| ✔ | ✔ |\n",
        "| Learns arbitrary Lagrangians | | |  | | ✔ |\n"
      ],
      "metadata": {
        "id": "vvipxWXSaEkJ"
      }
    },
    {
      "cell_type": "markdown",
      "source": [
        "$\\color{red}{\\textrm{Free energy}}$?! - https://arxiv.org/pdf/1706.09010.pdf"
      ],
      "metadata": {
        "id": "FuslE9YSjb4r"
      }
    },
    {
      "cell_type": "markdown",
      "source": [
        "### Chapter 1: Through goes Hamilton!\n",
        "\n",
        "Its an [F1 🏎 joke : )](https://youtu.be/TOWEAIG-OXU?si=QxoLCvvL89ygUxwZ&t=104) -"
      ],
      "metadata": {
        "id": "elbwqIZTedPP"
      }
    },
    {
      "cell_type": "markdown",
      "source": [
        "I took a stab at reading [David Morin's chapter](https://bpb-us-e1.wpmucdn.com/sites.harvard.edu/dist/0/550/files/2023/11/cmchap15.pdf) on this topic -  so we will begin by briefly defining the principles of Newtonian, Lagrangian and Hamiltonian mechanics (_the latter two reinterpreting the former in ways that enabled solving problems in other domains!_)"
      ],
      "metadata": {
        "id": "ekOAdy81fpdh"
      }
    },
    {
      "cell_type": "markdown",
      "source": [
        "The quantity $E$ is defined as:\n",
        "\n",
        "$$E \\equiv \\left(\\sum_{i=1}^N \\frac{\\partial L}{\\partial \\dot{q}_i} \\dot{q}_i\\right) - L$$ is the energy of the system.\n",
        "\n",
        "The above rewritten in a certain way defines the Hamiltonian $H$.\n",
        "\n",
        "Consider a particle undergoing 1D motion under the influence of a potential $V(x)$. ($x$ is Cartesian coordinates)\n",
        "\n",
        "Then $L \\equiv T - V = m\\dot{x}^2/2 - V(x)$. This means $E$ takes the form:\n",
        "\n",
        "$$E \\equiv \\frac{\\partial L}{\\partial \\dot{x}} \\dot{x} - L = 2T - (T - V) = T + V$$\n",
        "\n",
        "aka $\\color{cyan}{\\textrm{the total energy}}$. This is true even for arbitrary coordinates $q$ as long as $x=x(q)$ without any time dependence i.e. $x \\neq x(q, t)$, or equivalently $q=q(x, t)$. These complications are not considered in the book. $\\color{red}{\\textrm{Write equations showing this below}}$\n",
        "\n",
        "\n",
        "\n",
        "> $\\color{lime}{\\textrm{Theorem:}}$ A necessary and sufficient condition for $E$ to be total energy of a system when the Lagrangian is expressed in coordinates $q_i$ is that $q_i$ are related to Cartesian coordinates $x_i$ ($q$ may be of smaller dimension than $x$) via (invertible) expressions of the form:\n",
        "\n",
        "$$x_1 = x_1(q_1, q_2, \\cdots)$$\n",
        "\n",
        "$$\\vdots$$\n",
        "\n",
        "$$x_N = x_N(q_1, q_2, \\cdots)$$\n",
        "\n",
        "\n",
        "\n",
        "\n"
      ],
      "metadata": {
        "id": "D1_enY_PtczC"
      }
    },
    {
      "cell_type": "markdown",
      "source": [
        "$\\color{red}{\\textrm{Then what exactly is being conserved when there is time-dependence?}}$"
      ],
      "metadata": {
        "id": "GXvyB4Hx2jci"
      }
    },
    {
      "cell_type": "markdown",
      "source": [
        "Trivial example for dimension of $q$: Particle constrained to move in $xy$ plane, which implies $z=0$. Other examples? Motion of pendulum?"
      ],
      "metadata": {
        "id": "sSQQsyTpy5GK"
      }
    },
    {
      "cell_type": "code",
      "execution_count": null,
      "metadata": {
        "id": "d4yOlKuEZ1uJ"
      },
      "outputs": [],
      "source": []
    },
    {
      "cell_type": "markdown",
      "source": [
        "In closing, I'll quote from the text:\n",
        "\n",
        "\n",
        "\n",
        "> When solving ordinary mechanics problems with the Hamiltonian formalism,\n",
        "you should keep in mind that the purpose is not to gain anything in efficiency, but\n",
        "rather to become familiar with a branch of physics that has numerous indispensable\n",
        "applications to other branches\n",
        "\n",
        "\n",
        "Recipe for solving problems with Hamiltonian Method:\n",
        "\n",
        "1. Calculate $T$ and $V$, get $L$ in whatever coordinates is the most convenient.\n",
        "\n",
        "2. Calculate $p_i \\equiv \\partial L / \\partial \\dot{q_i}$\n",
        "\n",
        "3. Solve for\n",
        "\n"
      ],
      "metadata": {
        "id": "fwFFCT3nzplD"
      }
    },
    {
      "cell_type": "markdown",
      "source": [
        "### Chapter 2: If you thought integration was hard...\n",
        "\n",
        "It gets harder"
      ],
      "metadata": {
        "id": "r8AvuzdRklKi"
      }
    },
    {
      "cell_type": "code",
      "source": [],
      "metadata": {
        "id": "4pQZQmoMeb0H"
      },
      "execution_count": null,
      "outputs": []
    },
    {
      "cell_type": "markdown",
      "source": [
        "### Chapter 3: Learning the Hamiltonian"
      ],
      "metadata": {
        "id": "uugNIGGYsqyJ"
      }
    },
    {
      "cell_type": "markdown",
      "source": [
        "### 3.1 When analytical form is known...\n",
        "\n",
        "We are definitely considering harder problems than the canonical systems presented here, but it is instructive to see these anyways.\n",
        "\n",
        "\n",
        "\n",
        "\n",
        "\n",
        "\n",
        "### 3.2 Learning from \"real\" data\n",
        "\n",
        "Pendulum experiment from https://github.com/greydanus/hamiltonian-nn/blob/master/analyze-pixels.ipynb\n",
        "\n",
        "\n",
        "\n",
        "\n",
        "\n",
        "\n",
        "**Hamiltonian Neural Networks**:\n",
        "\n"
      ],
      "metadata": {
        "id": "9QFZW-8R1uEG"
      }
    },
    {
      "cell_type": "code",
      "source": [],
      "metadata": {
        "id": "Yquw4NA11lj0"
      },
      "execution_count": null,
      "outputs": []
    },
    {
      "cell_type": "markdown",
      "source": [
        "$\\color{lime}{\\textrm{Performance on non-conservative systems?}}$ - as it turns out, many of these papers do consider examples from actual experiments like measurements on a real pendulum, where there is dissipation on account of air resistance. The HNN has smaller error compared to the baseline NN, but always assumes a conserved quantity exists - so cannot account for friction. This implies that would have to be modeled separately.\n",
        "\n",
        "This is also a very nice segue into reversibility:"
      ],
      "metadata": {
        "id": "9Fq4wv773LJe"
      }
    },
    {
      "cell_type": "code",
      "source": [],
      "metadata": {
        "id": "YupWm8QitLUc"
      },
      "execution_count": null,
      "outputs": []
    },
    {
      "cell_type": "code",
      "source": [],
      "metadata": {
        "id": "wwcC4baltMLj"
      },
      "execution_count": null,
      "outputs": []
    },
    {
      "cell_type": "markdown",
      "source": [],
      "metadata": {
        "id": "35riSiyk118z"
      }
    },
    {
      "cell_type": "markdown",
      "source": [
        "### Chapter 4: Let's put it to the sword"
      ],
      "metadata": {
        "id": "vt1pbY0ctNux"
      }
    },
    {
      "cell_type": "markdown",
      "source": [
        "We will perform experiments with Burgers equation to begin. Right now we will focus on predictive ability compared to a baseline NN (can this be a NeuralODE?), and even a simple shifted OpInf-type ROM. How much mileage can we get from the HNN formalism?"
      ],
      "metadata": {
        "id": "g9NyH8tQaZe7"
      }
    },
    {
      "cell_type": "code",
      "source": [],
      "metadata": {
        "id": "wc4IPVB7tMBZ"
      },
      "execution_count": 1,
      "outputs": []
    },
    {
      "cell_type": "code",
      "source": [],
      "metadata": {
        "id": "9iDs2oXKtX9r"
      },
      "execution_count": null,
      "outputs": []
    },
    {
      "cell_type": "code",
      "source": [],
      "metadata": {
        "id": "IoEY_5IQtXxd"
      },
      "execution_count": null,
      "outputs": []
    },
    {
      "cell_type": "code",
      "source": [],
      "metadata": {
        "id": "G8QdFrVQtXnB"
      },
      "execution_count": null,
      "outputs": []
    },
    {
      "cell_type": "markdown",
      "source": [
        "And that's it. No part 2 of the HCU 🎥 :H\n",
        " hopefully!"
      ],
      "metadata": {
        "id": "rsQexXRrtQ2f"
      }
    },
    {
      "cell_type": "code",
      "source": [],
      "metadata": {
        "id": "wuPwM6k9c2KW"
      },
      "execution_count": null,
      "outputs": []
    }
  ]
}