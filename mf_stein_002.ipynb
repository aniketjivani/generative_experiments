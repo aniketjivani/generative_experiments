{
 "cells": [
  {
   "cell_type": "code",
   "execution_count": 4,
   "id": "6fc35ccf",
   "metadata": {},
   "outputs": [],
   "source": [
    "import os\n",
    "import re\n",
    "import numpy as np\n",
    "import torch\n",
    "import torch.distributions as tdst\n",
    "import scipy\n",
    "from scipy.spatial.distance import pdist, squareform\n",
    "from scipy.stats import multivariate_normal\n",
    "from scipy.stats import qmc\n",
    "import numpy.matlib as nm\n",
    "from scipy.stats import gaussian_kde\n",
    "\n",
    "from mxmc import Optimizer\n",
    "\n",
    "from rich.progress import track"
   ]
  },
  {
   "cell_type": "code",
   "execution_count": 2,
   "id": "6b106f79",
   "metadata": {},
   "outputs": [],
   "source": [
    "import matplotlib.pyplot as plt\n",
    "import seaborn as sns\n",
    "\n",
    "plt.rc(\"axes.spines\", right=True, top=True)\n",
    "plt.rc(\"figure\",\n",
    "      #  dpi=150,\n",
    "      #  figsize=(9, 3)\n",
    "      )\n",
    "plt.rc(\"font\", family=\"serif\")\n",
    "plt.rc(\"legend\", edgecolor=\"none\", frameon=True)\n",
    "plt.style.use(\"dark_background\")\n",
    "\n",
    "marker_symbol = u'\\u2B2C'"
   ]
  },
  {
   "cell_type": "code",
   "execution_count": 3,
   "id": "7fdf0115",
   "metadata": {},
   "outputs": [],
   "source": [
    "def lnprob0_gaussian(theta):\n",
    "    mvn_1 = tdst.Normal(-2, 1)\n",
    "    mvn_2 = tdst.Normal(2, 1)\n",
    "        \n",
    "    density_gauss_1 = mvn_1.log_prob(theta)\n",
    "    density_g2_raw = mvn_2.log_prob(theta)\n",
    "    density_gauss_2 = torch.log((1/3) * density_gauss_1.exp() + (2/3) * density_g2_raw.exp())\n",
    "    \n",
    "    return density_gauss_2\n",
    "\n",
    "def lnprob1_gaussian(theta):\n",
    "    \n",
    "    mvn_1 = tdst.Normal(-2.5, 1.5)\n",
    "    mvn_2 = tdst.Normal(-2.2, 1.2)\n",
    "    density_gauss_1 = mvn_1.log_prob(theta)\n",
    "    density_g2_raw = mvn_2.log_prob(theta)\n",
    "    density_gauss_2 = torch.log((1/4) * density_gauss_1.exp() + (3/4) * density_g2_raw.exp())\n",
    "    \n",
    "    return dist_gaussian.log_prob(theta)"
   ]
  },
  {
   "cell_type": "code",
   "execution_count": null,
   "id": "06eba223",
   "metadata": {},
   "outputs": [],
   "source": [
    "mvn_1 = tdst.Normal(-2, 1)\n",
    "mvn_2 = tdst.Normal(2, 1)\n",
    "kde = gaussian_kde(samples, bw_method='scott') "
   ]
  }
 ],
 "metadata": {
  "kernelspec": {
   "display_name": "Python 3 (ipykernel)",
   "language": "python",
   "name": "python3"
  },
  "language_info": {
   "codemirror_mode": {
    "name": "ipython",
    "version": 3
   },
   "file_extension": ".py",
   "mimetype": "text/x-python",
   "name": "python",
   "nbconvert_exporter": "python",
   "pygments_lexer": "ipython3",
   "version": "3.8.13"
  }
 },
 "nbformat": 4,
 "nbformat_minor": 5
}
