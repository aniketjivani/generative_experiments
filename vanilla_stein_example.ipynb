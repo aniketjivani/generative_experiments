{
  "nbformat": 4,
  "nbformat_minor": 0,
  "metadata": {
    "colab": {
      "provenance": [],
      "authorship_tag": "ABX9TyOK3SerNLgH3ZUgSDSEW+Sr",
      "include_colab_link": true
    },
    "kernelspec": {
      "name": "python3",
      "display_name": "Python 3"
    },
    "language_info": {
      "name": "python"
    }
  },
  "cells": [
    {
      "cell_type": "markdown",
      "metadata": {
        "id": "view-in-github",
        "colab_type": "text"
      },
      "source": [
        "<a href=\"https://colab.research.google.com/github/aniketjivani/generative_experiments/blob/master/vanilla_stein_example.ipynb\" target=\"_parent\"><img src=\"https://colab.research.google.com/assets/colab-badge.svg\" alt=\"Open In Colab\"/></a>"
      ]
    },
    {
      "cell_type": "code",
      "source": [
        "import numpy as np\n",
        "from scipy.spatial.distance import pdist, squareform\n",
        "import numpy.matlib as nm\n",
        "\n",
        "class SVGD_ll():\n",
        "    \"\"\"\n",
        "    Low-level SVGD implementation from DartML\n",
        "    \"\"\"\n",
        "    def __init__(self):\n",
        "        pass\n",
        "\n",
        "    def svgd_kernel(self, theta, h = -1):\n",
        "        sq_dist = pdist(theta)\n",
        "        pairwise_dists = squareform(sq_dist)**2\n",
        "        if h < 0: # if h < 0, using median trick\n",
        "            h = np.median(pairwise_dists)\n",
        "            h = np.sqrt(0.5 * h / np.log(theta.shape[0]+1))\n",
        "\n",
        "        # compute the rbf kernel\n",
        "        Kxy = np.exp( -pairwise_dists / h**2 / 2)\n",
        "\n",
        "        dxkxy = -np.matmul(Kxy, theta)\n",
        "        sumkxy = np.sum(Kxy, axis=1)\n",
        "        for i in range(theta.shape[1]):\n",
        "            dxkxy[:, i] = dxkxy[:,i] + np.multiply(theta[:,i],sumkxy)\n",
        "        dxkxy = dxkxy / (h**2)\n",
        "        return (Kxy, dxkxy, h)\n",
        "\n",
        "\n",
        "    def update(self, x0, lnprob,\n",
        "               n_iter = 1000,\n",
        "               stepsize = 1e-3,\n",
        "               bandwidth = -1,\n",
        "               alpha = 0.9,\n",
        "               return_all = False,\n",
        "               debug = False):\n",
        "        # Check input\n",
        "        if x0 is None or lnprob is None:\n",
        "            raise ValueError('x0 or lnprob cannot be None!')\n",
        "\n",
        "        theta_all = np.zeros((x0.shape[0], x0.shape[1], n_iter))\n",
        "        lengthscales_all = np.zeros(n_iter)\n",
        "        theta = np.copy(x0)\n",
        "\n",
        "        # adagrad with momentum\n",
        "        fudge_factor = 1e-6\n",
        "        historical_grad = 0\n",
        "        for iter in range(n_iter):\n",
        "            if debug and (iter+1) % 1000 == 0:\n",
        "                print('iter ' + str(iter+1))\n",
        "\n",
        "            lnpgrad = lnprob(theta)\n",
        "            # calculating the kernel matrix\n",
        "            kxy, dxkxy, h = self.svgd_kernel(theta, h=-1)\n",
        "            grad_theta = (np.matmul(kxy, lnpgrad) + dxkxy) / x0.shape[0]\n",
        "\n",
        "            lengthscales_all[iter] = h\n",
        "\n",
        "            # adagrad\n",
        "            if iter == 0:\n",
        "                historical_grad = historical_grad + grad_theta ** 2\n",
        "            else:\n",
        "                historical_grad = alpha * historical_grad + (1 - alpha) * (grad_theta ** 2)\n",
        "            adj_grad = np.divide(grad_theta, fudge_factor+np.sqrt(historical_grad))\n",
        "            theta = theta + stepsize * adj_grad\n",
        "\n",
        "            theta_all[:, :, iter] = theta\n",
        "        if return_all:\n",
        "          return theta_all, lengthscales_all\n",
        "        else:\n",
        "          return theta\n"
      ],
      "metadata": {
        "id": "K0ofSuGErWUM"
      },
      "execution_count": null,
      "outputs": []
    },
    {
      "cell_type": "markdown",
      "source": [
        "Example of multivariate normal implemented with above in the DartML code:"
      ],
      "metadata": {
        "id": "KJVtDpEx5jhQ"
      }
    },
    {
      "cell_type": "code",
      "source": [
        "class MVN:\n",
        "    def __init__(self, mu, A):\n",
        "        self.mu = mu\n",
        "        self.A = A\n",
        "\n",
        "    def dlnprob_wrong(self, theta):\n",
        "        return -1*np.matmul(theta-nm.repmat(self.mu, theta.shape[0], 1), self.A)\n",
        "\n",
        "    def dlnprob(self, theta):\n",
        "        return -1*np.matmul(theta-nm.repmat(self.mu, theta.shape[0], 1),\n",
        "                            np.linalg.inv(self.A))\n",
        "\n",
        "A = np.array([[0.2260,0.1652],[0.1652,0.6779]])\n",
        "mu = np.array([-0.6871,0.8010])\n",
        "model = MVN(mu, A)\n",
        "\n",
        "\n",
        "x0 = np.random.normal(0,1, [200,2])\n",
        "print(model.dlnprob(x0).shape)\n",
        "print(SVGD_ll().svgd_kernel(x0)[0].shape)"
      ],
      "metadata": {
        "colab": {
          "base_uri": "https://localhost:8080/"
        },
        "id": "x9mtG0qx5n5R",
        "outputId": "ec74d055-4a74-4f1d-d664-76340935a0d2"
      },
      "execution_count": null,
      "outputs": [
        {
          "output_type": "stream",
          "name": "stdout",
          "text": [
            "(200, 2)\n",
            "(200, 200)\n"
          ]
        }
      ]
    },
    {
      "cell_type": "code",
      "source": [
        "theta1 = SVGD_ll().update(x0, model.dlnprob, n_iter=500, stepsize=0.01)\n",
        "print(\"ground truth: \", mu)\n",
        "print(\"svgd: \", np.mean(theta1,axis=0))\n",
        "print(\"svgd: \", np.cov(theta1.T))\n",
        "\n",
        "theta2 = SVGD_ll().update(x0, model.dlnprob_wrong, n_iter=500, stepsize=0.01)\n",
        "print(\"ground truth: \", mu)\n",
        "print(\"svgd: \", np.mean(theta2,axis=0))\n",
        "print(\"svgd: \", np.cov(theta2.T))"
      ],
      "metadata": {
        "id": "jRb0pV0wB5ce",
        "colab": {
          "base_uri": "https://localhost:8080/"
        },
        "outputId": "18a93bba-bfd1-4f63-e9cf-ce279c44b511"
      },
      "execution_count": null,
      "outputs": [
        {
          "output_type": "stream",
          "name": "stdout",
          "text": [
            "ground truth:  [-0.6871  0.801 ]\n",
            "svgd:  [-0.68895846  0.80205971]\n",
            "svgd:  [[0.21680716 0.15996021]\n",
            " [0.15996021 0.64573378]]\n",
            "ground truth:  [-0.6871  0.801 ]\n",
            "svgd:  [-0.68628059  0.8034161 ]\n",
            "svgd:  [[ 5.14685838 -1.24857702]\n",
            " [-1.24857702  1.72546932]]\n"
          ]
        }
      ]
    },
    {
      "cell_type": "code",
      "source": [
        "import matplotlib.pyplot as plt\n",
        "\n",
        "plt.rc(\"axes.spines\", right=True, top=True)\n",
        "plt.rc(\"figure\", dpi=150,\n",
        "      #  figsize=(9, 3)\n",
        "      )\n",
        "plt.rc(\"font\", family=\"serif\")\n",
        "plt.rc(\"legend\", edgecolor=\"none\", frameon=True)\n",
        "plt.style.use(\"dark_background\")"
      ],
      "metadata": {
        "id": "mrsHWlLm1bSW"
      },
      "execution_count": null,
      "outputs": []
    },
    {
      "cell_type": "code",
      "source": [
        "from scipy.stats import qmc\n",
        "\n",
        "sampler = qmc.Sobol(d=2, scramble=False)\n",
        "initial_particles = sampler.random(n=100)\n",
        "\n",
        "# rescale initial points to lie within -1, 1\n",
        "initial_particles = 2 * initial_particles - 1\n"
      ],
      "metadata": {
        "colab": {
          "base_uri": "https://localhost:8080/"
        },
        "id": "lYIvhLnh3jcj",
        "outputId": "bd482db2-cb15-42bf-e927-5daf5a63d058"
      },
      "execution_count": null,
      "outputs": [
        {
          "output_type": "stream",
          "name": "stderr",
          "text": [
            "/usr/local/lib/python3.10/dist-packages/scipy/stats/_qmc.py:958: UserWarning: The balance properties of Sobol' points require n to be a power of 2.\n",
            "  sample = self._random(n, workers=workers)\n"
          ]
        }
      ]
    },
    {
      "cell_type": "code",
      "source": [
        "class RBF(torch.nn.Module):\n",
        "  def __init__(self, sigma=None):\n",
        "    super(RBF, self).__init__()\n",
        "\n",
        "    self.sigma = sigma\n",
        "\n",
        "  def forward(self, X, Y):\n",
        "    XX = X.matmul(X.t())\n",
        "    XY = X.matmul(Y.t())\n",
        "    YY = Y.matmul(Y.t())\n",
        "\n",
        "    dnorm2 = -2 * XY + XX.diag().unsqueeze(1) + YY.diag().unsqueeze(0)\n",
        "\n",
        "    # Apply the median heuristic (PyTorch does not give true median)\n",
        "    if self.sigma is None:\n",
        "      np_dnorm2 = dnorm2.detach().cpu().numpy()\n",
        "      h = np.median(np_dnorm2) / (2 * np.log(X.size(0) + 1))\n",
        "      sigma = np.sqrt(h).item()\n",
        "    else:\n",
        "      sigma = self.sigma\n",
        "\n",
        "    gamma = 1.0 / (1e-8 + 2 * sigma ** 2)\n",
        "    K_XY = (-gamma * dnorm2).exp()\n",
        "\n",
        "    return K_XY\n",
        "\n",
        "# Let us initialize a reusable instance right away.\n",
        "K = RBF()"
      ],
      "metadata": {
        "id": "HRVk0bNoEG2W"
      },
      "execution_count": null,
      "outputs": []
    },
    {
      "cell_type": "code",
      "source": [
        "\n"
      ],
      "metadata": {
        "id": "dgesti7lEJg3"
      },
      "execution_count": null,
      "outputs": []
    },
    {
      "cell_type": "code",
      "source": [
        "from scipy.stats import multivariate_normal\n",
        "\n",
        "x, y = np.mgrid[-3:3:.01, -3:3:.01]\n",
        "pos = np.dstack((x, y))\n",
        "\n",
        "mu_oracle = np.array([0.5, -0.2])\n",
        "cov_oracle = np.array([[2.0, 0.3], [0.3, 0.5]])\n",
        "\n",
        "rv = multivariate_normal(mu_oracle, cov_oracle)\n",
        "\n",
        "\n",
        "fig2 = plt.figure(figsize=(6, 6))\n",
        "ax2 = fig2.add_subplot(111)\n",
        "ax2.contourf(x, y,\n",
        "             rv.pdf(pos),\n",
        "             cmap='coolwarm')\n",
        "\n",
        "marker_symbol = u'\\u2B2C'\n",
        "\n",
        "# Scatter initial particles\n",
        "ax2.scatter(initial_particles[:, 0], initial_particles[:, 1],\n",
        "            color=\"white\",\n",
        "            marker=\"$%s$\" % marker_symbol,\n",
        "            s=15,\n",
        "            clip_on=False)\n",
        "\n",
        "ax2.set_xlim(-3, 3)\n",
        "ax2.set_ylim(-3, 3)"
      ],
      "metadata": {
        "colab": {
          "base_uri": "https://localhost:8080/",
          "height": 798
        },
        "id": "qAlCoWkA1Ixb",
        "outputId": "a74bee1b-1add-4718-f262-c6e2adab21d6"
      },
      "execution_count": null,
      "outputs": [
        {
          "output_type": "execute_result",
          "data": {
            "text/plain": [
              "(-3.0, 3.0)"
            ]
          },
          "metadata": {},
          "execution_count": 41
        },
        {
          "output_type": "display_data",
          "data": {
            "text/plain": [
              "<Figure size 900x900 with 1 Axes>"
            ],
            "image/png": "[encoded data removed]"
          },
          "metadata": {}
        }
      ]
    },
    {
      "cell_type": "code",
      "source": [
        "# Expression for dlogprob of multivariate normal (inefficient):\n",
        "def mvn_dlnprob(theta, mu=mu_oracle, cov=cov_oracle):\n",
        "    return -1*np.matmul(theta-nm.repmat(mu, theta.shape[0], 1),\n",
        "                        np.linalg.inv(cov))\n",
        "\n",
        "\n",
        "post_particles_all, lengthscales_all = SVGD_ll().update(initial_particles,\n",
        "                                                        mvn_dlnprob,\n",
        "                                                        n_iter=1500,\n",
        "                                                        stepsize=0.01,\n",
        "                                                        return_all=True)"
      ],
      "metadata": {
        "id": "byRrEIrH6EZQ"
      },
      "execution_count": null,
      "outputs": []
    },
    {
      "cell_type": "code",
      "source": [
        "post_particles_all.shape"
      ],
      "metadata": {
        "colab": {
          "base_uri": "https://localhost:8080/"
        },
        "id": "Ieb0AWtqDDiV",
        "outputId": "e5052042-a9b9-43cf-af37-152d0215c364"
      },
      "execution_count": null,
      "outputs": [
        {
          "output_type": "execute_result",
          "data": {
            "text/plain": [
              "(100, 2, 1500)"
            ]
          },
          "metadata": {},
          "execution_count": 43
        }
      ]
    },
    {
      "cell_type": "code",
      "source": [
        "x, y = np.mgrid[-3:3:.01, -3:3:.01]\n",
        "pos = np.dstack((x, y))\n",
        "\n",
        "fig2 = plt.figure(figsize=(6, 6))\n",
        "ax2 = fig2.add_subplot(111)\n",
        "ax2.contourf(x, y,\n",
        "             rv.pdf(pos),\n",
        "             cmap='coolwarm')\n",
        "\n",
        "marker_symbol = u'\\u2B2C'\n",
        "\n",
        "# Scatter initial particles\n",
        "ax2.scatter(post_particles_all[:, 0, -1], post_particles_all[:, 1, -1],\n",
        "            color=\"white\",\n",
        "            marker=\"$%s$\" % marker_symbol,\n",
        "            s=15,\n",
        "            clip_on=False)\n",
        "\n",
        "ax2.set_xlim(-3, 3)\n",
        "ax2.set_ylim(-3, 3)"
      ],
      "metadata": {
        "colab": {
          "base_uri": "https://localhost:8080/",
          "height": 798
        },
        "id": "FLYunMkwDFJd",
        "outputId": "20ef3035-6cb7-4a8d-898c-5553c84e8727"
      },
      "execution_count": null,
      "outputs": [
        {
          "output_type": "execute_result",
          "data": {
            "text/plain": [
              "(-3.0, 3.0)"
            ]
          },
          "metadata": {},
          "execution_count": 44
        },
        {
          "output_type": "display_data",
          "data": {
            "text/plain": [
              "<Figure size 900x900 with 1 Axes>"
            ],
            "image/png": "[encoded data removed]"
          },
          "metadata": {}
        }
      ]
    },
    {
      "cell_type": "code",
      "source": [
        "lengthscales_all.shape"
      ],
      "metadata": {
        "colab": {
          "base_uri": "https://localhost:8080/"
        },
        "id": "xhWH1yiiLDT8",
        "outputId": "eb57b20e-7cfa-4fee-cfc4-e9a80e56ac64"
      },
      "execution_count": null,
      "outputs": [
        {
          "output_type": "execute_result",
          "data": {
            "text/plain": [
              "(1500,)"
            ]
          },
          "metadata": {},
          "execution_count": 45
        }
      ]
    },
    {
      "cell_type": "code",
      "source": [
        "# plot lengthscales\n",
        "n_iters = 1500\n",
        "plt.plot(np.linspace(1, n_iters, n_iters), lengthscales_all)\n",
        "plt.xlabel(\"iteration\")\n",
        "plt.ylabel(\"lengthscale\")"
      ],
      "metadata": {
        "colab": {
          "base_uri": "https://localhost:8080/",
          "height": 679
        },
        "id": "aGoD_pQKK2tR",
        "outputId": "cb6c2f7a-d0ba-4842-cb8d-04f9808822a1"
      },
      "execution_count": null,
      "outputs": [
        {
          "output_type": "execute_result",
          "data": {
            "text/plain": [
              "Text(0, 0.5, 'lengthscale')"
            ]
          },
          "metadata": {},
          "execution_count": 46
        },
        {
          "output_type": "display_data",
          "data": {
            "text/plain": [
              "<Figure size 960x720 with 1 Axes>"
            ],
            "image/png": "[encoded data removed]"
          },
          "metadata": {}
        }
      ]
    },
    {
      "cell_type": "code",
      "source": [
        "x02 = np.random.normal(0,1,[3,2])\n",
        "x02.shape\n",
        "\n",
        "sq_dist = pdist(x02)\n",
        "pairwise_dists = squareform(sq_dist)**2\n",
        "h = np.median(pairwise_dists)\n",
        "h = np.sqrt(0.5 * h / np.log(x02.shape[0]+1))\n",
        "Kxy = np.exp( -pairwise_dists / h**2 / 2)\n",
        "Kxy.shape"
      ],
      "metadata": {
        "colab": {
          "base_uri": "https://localhost:8080/"
        },
        "id": "HzEMRxRBc31w",
        "outputId": "2c228d1f-a1e2-4533-a30a-748f6e5c5e7e"
      },
      "execution_count": null,
      "outputs": [
        {
          "output_type": "execute_result",
          "data": {
            "text/plain": [
              "(3, 3)"
            ]
          },
          "metadata": {},
          "execution_count": 53
        }
      ]
    },
    {
      "cell_type": "code",
      "source": [
        "sq_dist.shape, pairwise_dists.shape"
      ],
      "metadata": {
        "colab": {
          "base_uri": "https://localhost:8080/"
        },
        "id": "yNWnUAW4c3st",
        "outputId": "cf6b41f2-2178-499e-c997-9ea4ae9d5dc2"
      },
      "execution_count": null,
      "outputs": [
        {
          "output_type": "execute_result",
          "data": {
            "text/plain": [
              "((3,), (3, 3))"
            ]
          },
          "metadata": {},
          "execution_count": 56
        }
      ]
    },
    {
      "cell_type": "code",
      "source": [
        "Kxy"
      ],
      "metadata": {
        "colab": {
          "base_uri": "https://localhost:8080/"
        },
        "id": "jLyp8Cz6c3mZ",
        "outputId": "43231708-c325-4f2a-ed72-c287dd8ca9a2"
      },
      "execution_count": null,
      "outputs": [
        {
          "output_type": "execute_result",
          "data": {
            "text/plain": [
              "array([[1.00000000e+00, 2.50000000e-01, 1.83275328e-46],\n",
              "       [2.50000000e-01, 1.00000000e+00, 7.19968993e-37],\n",
              "       [1.83275328e-46, 7.19968993e-37, 1.00000000e+00]])"
            ]
          },
          "metadata": {},
          "execution_count": 58
        }
      ]
    },
    {
      "cell_type": "code",
      "source": [
        "dxkxy = -np.matmul(Kxy, x02)\n",
        "sumkxy = np.sum(Kxy, axis=1)\n",
        "sumkxy.shape, dxkxy.shape"
      ],
      "metadata": {
        "colab": {
          "base_uri": "https://localhost:8080/"
        },
        "id": "JvOjaTEBc3d7",
        "outputId": "eb8c0a75-8e34-4898-84b1-f01f3a55aea6"
      },
      "execution_count": null,
      "outputs": [
        {
          "output_type": "execute_result",
          "data": {
            "text/plain": [
              "((3,), (3, 2))"
            ]
          },
          "metadata": {},
          "execution_count": 64
        }
      ]
    },
    {
      "cell_type": "code",
      "source": [
        "np.multiply(x02[:, 0], sumkxy)"
      ],
      "metadata": {
        "colab": {
          "base_uri": "https://localhost:8080/"
        },
        "id": "DTmZbB11c3Tb",
        "outputId": "d32653b6-ec83-4b6d-97cf-f8c294191196"
      },
      "execution_count": null,
      "outputs": [
        {
          "output_type": "execute_result",
          "data": {
            "text/plain": [
              "array([-0.67572739, -1.00557258, -2.89828644])"
            ]
          },
          "metadata": {},
          "execution_count": 63
        }
      ]
    },
    {
      "cell_type": "markdown",
      "source": [
        "Torch based implementation examples"
      ],
      "metadata": {
        "id": "tjlSp4UXVEV9"
      }
    },
    {
      "cell_type": "code",
      "source": [
        "# Low-level RBF:\n",
        "# def svgd_kernel(self, theta, h = -1):\n",
        "#     sq_dist = pdist(theta)\n",
        "#     pairwise_dists = squareform(sq_dist)**2\n",
        "#     if h < 0: # if h < 0, using median trick\n",
        "#         h = np.median(pairwise_dists)\n",
        "#         h = np.sqrt(0.5 * h / np.log(theta.shape[0]+1))\n",
        "\n",
        "#     # compute the rbf kernel\n",
        "#     Kxy = np.exp( -pairwise_dists / h**2 / 2)\n",
        "\n",
        "#     dxkxy = -np.matmul(Kxy, theta)\n",
        "#     sumkxy = np.sum(Kxy, axis=1)\n",
        "#     for i in range(theta.shape[1]):\n",
        "#         dxkxy[:, i] = dxkxy[:,i] + np.multiply(theta[:,i],sumkxy)\n",
        "#     dxkxy = dxkxy / (h**2)\n",
        "#     return (Kxy, dxkxy)\n",
        "\n",
        "# class RBF(torch.nn.Module):\n",
        "#   def __init__(self, sigma=None):\n",
        "#     super(RBF, self).__init__()\n",
        "\n",
        "#     self.sigma = sigma\n",
        "\n",
        "#   def forward(self, X, Y):\n",
        "#     XX = X.matmul(X.t())\n",
        "#     XY = X.matmul(Y.t())\n",
        "#     YY = Y.matmul(Y.t())\n",
        "\n",
        "#     dnorm2 = -2 * XY + XX.diag().unsqueeze(1) + YY.diag().unsqueeze(0)\n",
        "\n",
        "#     # Apply the median heuristic (PyTorch does not give true median)\n",
        "#     if self.sigma is None:\n",
        "#       np_dnorm2 = dnorm2.detach().cpu().numpy()\n",
        "#       h = np.median(np_dnorm2) / (2 * np.log(X.size(0) + 1))\n",
        "#       sigma = np.sqrt(h).item()\n",
        "#     else:\n",
        "#       sigma = self.sigma\n",
        "\n",
        "#     gamma = 1.0 / (1e-8 + 2 * sigma ** 2)\n",
        "#     K_XY = (-gamma * dnorm2).exp()\n",
        "\n",
        "#     return K_XY\n",
        "\n",
        "# # Let us initialize a reusable instance right away.\n",
        "# K = RBF()"
      ],
      "metadata": {
        "id": "JGIN8jWRGZnF"
      },
      "execution_count": null,
      "outputs": []
    },
    {
      "cell_type": "code",
      "source": [
        "# import torch\n",
        "# import torch.autograd as autograd\n",
        "# import torch.optim as optim\n",
        "# device = torch.device('cuda' if torch.cuda.is_available() else 'cpu')\n",
        "\n",
        "# class SVGD_torch:\n",
        "#   \"\"\"\n",
        "#   Less low level implementation using torch autograd - see https://sanyamkapoor.com/kb/the-stein-gradient/\n",
        "#   \"\"\"\n",
        "#   def __init__(self, P, K, optimizer):\n",
        "#     self.P = P\n",
        "#     self.K = K\n",
        "#     self.optim = optimizer\n",
        "\n",
        "#   def phi(self, X):\n",
        "#     X = X.detach().requires_grad_(True)\n",
        "\n",
        "#     log_prob = self.P.log_prob(X)\n",
        "#     score_func = autograd.grad(log_prob.sum(), X)[0]\n",
        "\n",
        "#     K_XX = self.K(X, X.detach())\n",
        "#     grad_K = -autograd.grad(K_XX.sum(), X)[0]\n",
        "\n",
        "#     phi = (K_XX.detach().matmul(score_func) + grad_K) / X.size(0)\n",
        "\n",
        "#     return phi\n",
        "\n",
        "\n",
        "#   def step(self, X):\n",
        "#     self.optim.zero_grad()\n",
        "#     X.grad = -self.phi(X)\n",
        "#     self.optim.step()\n",
        "#     # save all intermediate Xs\n"
      ],
      "metadata": {
        "id": "r2HqDylVrWMp"
      },
      "execution_count": null,
      "outputs": []
    },
    {
      "cell_type": "code",
      "source": [
        "rv_torch = torch.distributions.MultivariateNormal(torch.Tensor(mu_oracle).to(device),\n",
        "        covariance_matrix=torch.Tensor(cov_oracle).to(device))"
      ],
      "metadata": {
        "id": "nkHah7vtVa3O"
      },
      "execution_count": null,
      "outputs": []
    },
    {
      "cell_type": "code",
      "source": [
        "init_particles_torch = torch.Tensor(initial_particles).to(device)\n",
        "init_particles_torch.shape"
      ],
      "metadata": {
        "colab": {
          "base_uri": "https://localhost:8080/"
        },
        "id": "OmHxS0JZVaz5",
        "outputId": "0397bd1e-87d3-4733-cb51-6ffeda3db13e"
      },
      "execution_count": null,
      "outputs": [
        {
          "output_type": "execute_result",
          "data": {
            "text/plain": [
              "torch.Size([100, 2])"
            ]
          },
          "metadata": {},
          "execution_count": 19
        }
      ]
    },
    {
      "cell_type": "code",
      "source": [
        "(init_particles_torch[:, None] - init_particles_torch).shape"
      ],
      "metadata": {
        "colab": {
          "base_uri": "https://localhost:8080/"
        },
        "id": "69s91aiPm6ZW",
        "outputId": "cc99857d-4cec-4359-a3a8-b126bd3a47bf"
      },
      "execution_count": 77,
      "outputs": [
        {
          "output_type": "execute_result",
          "data": {
            "text/plain": [
              "torch.Size([100, 100, 2])"
            ]
          },
          "metadata": {},
          "execution_count": 77
        }
      ]
    },
    {
      "cell_type": "code",
      "source": [
        "torch.norm(init_particles_torch[:, None] - init_particles_torch, dim=2, p=2).shape"
      ],
      "metadata": {
        "colab": {
          "base_uri": "https://localhost:8080/"
        },
        "id": "5mbOuTpamm8r",
        "outputId": "fcc5026d-d66a-43f6-ff1d-f25e43bcea99"
      },
      "execution_count": 74,
      "outputs": [
        {
          "output_type": "execute_result",
          "data": {
            "text/plain": [
              "torch.Size([100, 100])"
            ]
          },
          "metadata": {},
          "execution_count": 74
        }
      ]
    },
    {
      "cell_type": "code",
      "source": [
        "torch.sum(torch.isclose(torch.norm(init_particles_torch[:, None] - init_particles_torch, dim=2, p=2), torch.Tensor(squareform(pdist(initial_particles))))) # nice!!!!!!"
      ],
      "metadata": {
        "colab": {
          "base_uri": "https://localhost:8080/"
        },
        "id": "b993mDenoJbO",
        "outputId": "8a53d457-af28-4497-bfd3-4fbe2da024a3"
      },
      "execution_count": 103,
      "outputs": [
        {
          "output_type": "execute_result",
          "data": {
            "text/plain": [
              "tensor(10000)"
            ]
          },
          "metadata": {},
          "execution_count": 103
        }
      ]
    },
    {
      "cell_type": "code",
      "source": [
        "squareform(pdist(initial_particles))"
      ],
      "metadata": {
        "colab": {
          "base_uri": "https://localhost:8080/"
        },
        "id": "A4gyUChoptSL",
        "outputId": "68b47bb9-2f03-498d-c9f3-86526207009d"
      },
      "execution_count": 97,
      "outputs": [
        {
          "output_type": "execute_result",
          "data": {
            "text/plain": [
              "array([[0.        , 1.41421356, 1.58113883, ..., 1.66257636, 1.75404109,\n",
              "        1.85786441],\n",
              "       [1.41421356, 0.        , 0.70710678, ..., 0.27687571, 0.62382702,\n",
              "        0.87416255],\n",
              "       [1.58113883, 0.70710678, 0.        , ..., 0.87416255, 0.27687571,\n",
              "        1.56577781],\n",
              "       ...,\n",
              "       [1.66257636, 0.27687571, 0.87416255, ..., 0.        , 0.70710678,\n",
              "        0.70710678],\n",
              "       [1.75404109, 0.62382702, 0.27687571, ..., 0.70710678, 0.        ,\n",
              "        1.41421356],\n",
              "       [1.85786441, 0.87416255, 1.56577781, ..., 0.70710678, 1.41421356,\n",
              "        0.        ]])"
            ]
          },
          "metadata": {},
          "execution_count": 97
        }
      ]
    },
    {
      "cell_type": "code",
      "source": [
        "# torch.nn.PairwiseDistance(p=2)(init_particles_torch, init_particles_torch)"
      ],
      "metadata": {
        "id": "8X5JN3dOoO2d"
      },
      "execution_count": 89,
      "outputs": []
    },
    {
      "cell_type": "code",
      "source": [
        "import torch\n",
        "import torch.autograd as autograd\n",
        "import torch.optim as optim\n",
        "import torch.nn as nn\n",
        "import torch.nn.functional as F\n",
        "device = torch.device('cuda' if torch.cuda.is_available() else 'cpu')\n",
        "\n",
        "class SVGD_torch_custom:\n",
        "  \"\"\"\n",
        "  Less low level implementation using torch autograd - see https://sanyamkapoor.com/kb/the-stein-gradient/\n",
        "  \"\"\"\n",
        "  def __init__(self, P, optimizer, ls=None):\n",
        "    self.P = P\n",
        "    # self.K = K\n",
        "    self.optim = optimizer\n",
        "    if ls is None:\n",
        "      self.h=-1\n",
        "    else:\n",
        "      self.h = nn.Parameter(torch.randn(1))\n",
        "\n",
        "\n",
        "  def svgd_kernel(self, X1, X2):\n",
        "    pairwise_dists = torch.norm(init_particles_torch[:, None] - init_particles_torch, dim=2, p=2)\n",
        "\n",
        "    # compute lengthscale\n",
        "    if self.h == -1:\n",
        "      h = np.median(pairwise_dists)\n",
        "      h = np.sqrt(0.5 * h / np.log(theta.shape[0]+1))\n",
        "    else:\n",
        "      h = self.h\n",
        "\n",
        "    K_XY = torch.exp( -pairwise_dists / h**2 / 2)\n",
        "\n",
        "    return K_XY, lengthscale\n",
        "\n",
        "\n",
        "  def phi(self, X):\n",
        "    X = X.detach().requires_grad_(True)\n",
        "\n",
        "    log_prob = self.P.log_prob(X)\n",
        "    score_func = autograd.grad(log_prob.sum(), X)[0]\n",
        "\n",
        "    K_XX, lengthscale = self.svgd_kernel(X, X.detach())\n",
        "    grad_K = -autograd.grad(K_XX.sum(), X)[0]\n",
        "\n",
        "    phi = (K_XX.detach().matmul(score_func) + grad_K) / X.size(0)\n",
        "\n",
        "    return phi\n",
        "\n",
        "  def step(self, X):\n",
        "    self.optim.zero_grad()\n",
        "    X.grad = -self.phi(X)\n",
        "    self.optim.step()\n",
        "    # save all intermediate Xs"
      ],
      "metadata": {
        "id": "53IG8PVLDDsp"
      },
      "execution_count": null,
      "outputs": []
    },
    {
      "cell_type": "code",
      "source": [],
      "metadata": {
        "id": "ATwknWU_LJpq"
      },
      "execution_count": null,
      "outputs": []
    },
    {
      "cell_type": "code",
      "source": [
        "!pip install celluloid"
      ],
      "metadata": {
        "colab": {
          "base_uri": "https://localhost:8080/"
        },
        "id": "u6giB_luc1oR",
        "outputId": "c6d59170-4165-488f-d431-920be19960cb"
      },
      "execution_count": null,
      "outputs": [
        {
          "output_type": "stream",
          "name": "stdout",
          "text": [
            "Requirement already satisfied: celluloid in /usr/local/lib/python3.10/dist-packages (0.2.0)\n",
            "Requirement already satisfied: matplotlib in /usr/local/lib/python3.10/dist-packages (from celluloid) (3.7.1)\n",
            "Requirement already satisfied: contourpy>=1.0.1 in /usr/local/lib/python3.10/dist-packages (from matplotlib->celluloid) (1.3.0)\n",
            "Requirement already satisfied: cycler>=0.10 in /usr/local/lib/python3.10/dist-packages (from matplotlib->celluloid) (0.12.1)\n",
            "Requirement already satisfied: fonttools>=4.22.0 in /usr/local/lib/python3.10/dist-packages (from matplotlib->celluloid) (4.54.1)\n",
            "Requirement already satisfied: kiwisolver>=1.0.1 in /usr/local/lib/python3.10/dist-packages (from matplotlib->celluloid) (1.4.7)\n",
            "Requirement already satisfied: numpy>=1.20 in /usr/local/lib/python3.10/dist-packages (from matplotlib->celluloid) (1.26.4)\n",
            "Requirement already satisfied: packaging>=20.0 in /usr/local/lib/python3.10/dist-packages (from matplotlib->celluloid) (24.1)\n",
            "Requirement already satisfied: pillow>=6.2.0 in /usr/local/lib/python3.10/dist-packages (from matplotlib->celluloid) (10.4.0)\n",
            "Requirement already satisfied: pyparsing>=2.3.1 in /usr/local/lib/python3.10/dist-packages (from matplotlib->celluloid) (3.1.4)\n",
            "Requirement already satisfied: python-dateutil>=2.7 in /usr/local/lib/python3.10/dist-packages (from matplotlib->celluloid) (2.8.2)\n",
            "Requirement already satisfied: six>=1.5 in /usr/local/lib/python3.10/dist-packages (from python-dateutil>=2.7->matplotlib->celluloid) (1.16.0)\n"
          ]
        }
      ]
    },
    {
      "cell_type": "code",
      "source": [
        "# from celluloid import Camera\n",
        "# from matplotlib.animation import FuncAnimation"
      ],
      "metadata": {
        "id": "HqaFTmiWdbj6"
      },
      "execution_count": null,
      "outputs": []
    },
    {
      "cell_type": "code",
      "source": [
        "# jupyter fix?\n",
        "from IPython.display import HTML\n",
        "# animation = camera.animate()\n",
        "# HTML(animation.to_html5_video())"
      ],
      "metadata": {
        "id": "Hp9KB1dqd3zS"
      },
      "execution_count": null,
      "outputs": []
    },
    {
      "cell_type": "code",
      "source": [
        "import os\n",
        "# os.makedirs(\"particle_animations\", exist_ok=True)"
      ],
      "metadata": {
        "id": "t3a391iEo9md"
      },
      "execution_count": null,
      "outputs": []
    },
    {
      "cell_type": "code",
      "source": [
        "# from rich.progress import track\n",
        "# fig = plt.figure(figsize=(6, 6))\n",
        "# # camera = Camera(fig)\n",
        "# marker_symbol = u'\\u2B2C'\n",
        "\n",
        "# for i in track(range(post_particles_all.shape[2] + 1), description=\"Processing particles at step ...\"):\n",
        "#   # Step through and save a few frames only.\n",
        "#   # for i in range(11):\n",
        "#   t = plt.contourf(x, y,\n",
        "#              rv.pdf(pos),\n",
        "#              cmap='coolwarm')\n",
        "\n",
        "\n",
        "#   # Scatter initial particles\n",
        "#   if i == 0:\n",
        "#     particles_to_show = initial_particles\n",
        "#   else:\n",
        "#     particles_to_show = post_particles_all[:, :, i - 1]\n",
        "\n",
        "\n",
        "#   plt.scatter(particles_to_show[:, 0], particles_to_show[:, 1],\n",
        "#             color=\"white\",\n",
        "#             marker=\"$%s$\" % marker_symbol,\n",
        "#             s=15,\n",
        "#             clip_on=False)\n",
        "\n",
        "\n",
        "#   plt.xlim(-3, 3)\n",
        "#   plt.ylim(-3, 3)\n",
        "\n",
        "#   plt.savefig(os.path.join(\"./particle_animations\", \"particles_iter_{:04d}.png\".format(i)), dpi=150)\n",
        "#   plt.close()\n",
        "\n",
        "#   camera.snap()\n",
        "\n",
        "# animation = camera.animate()\n",
        "# HTML(animation.to_html5_video())\n",
        "# animation.save('mvn_particles.gif', writer='pillow')"
      ],
      "metadata": {
        "id": "3zWSKlYbb_jk"
      },
      "execution_count": null,
      "outputs": []
    },
    {
      "cell_type": "code",
      "source": [
        "# from google.colab import files\n",
        "# import shutil\n",
        "\n",
        "# shutil.make_archive(\"particle_animations\", 'zip', \"particle_animations\")\n",
        "# files.download(\"particle_animations.zip\")"
      ],
      "metadata": {
        "id": "XjWYOairxpQb"
      },
      "execution_count": null,
      "outputs": []
    },
    {
      "cell_type": "code",
      "source": [
        "\n",
        "# from matplotlib import pyplot as plt\n",
        "# from celluloid import Camera\n",
        "\n",
        "# fig = plt.figure()\n",
        "# camera = Camera(fig)\n",
        "# for i in range(10):\n",
        "#     plt.plot([i] * 10)\n",
        "#     camera.snap()\n",
        "# animation = camera.animate()\n",
        "# HTML(animation.to_html5_video())"
      ],
      "metadata": {
        "id": "UMN8xb-cgAye"
      },
      "execution_count": null,
      "outputs": []
    },
    {
      "cell_type": "code",
      "source": [],
      "metadata": {
        "id": "VnRJ04O7aEQj"
      },
      "execution_count": null,
      "outputs": []
    },
    {
      "cell_type": "code",
      "source": [],
      "metadata": {
        "id": "pQ4omeeZVawn"
      },
      "execution_count": null,
      "outputs": []
    },
    {
      "cell_type": "code",
      "source": [],
      "metadata": {
        "id": "FLbEKcweVatF"
      },
      "execution_count": null,
      "outputs": []
    },
    {
      "cell_type": "code",
      "source": [],
      "metadata": {
        "id": "IatZ5E45VamT"
      },
      "execution_count": null,
      "outputs": []
    },
    {
      "cell_type": "code",
      "source": [
        "# Need to fix!\n",
        "\n",
        "import numpy as np\n",
        "import sklearn\n",
        "import sklearn.datasets\n",
        "from sklearn.utils import shuffle as util_shuffle\n",
        "import matplotlib.pyplot as plt\n",
        "from mpl_toolkits.mplot3d import Axes3D\n",
        "\n",
        "# Dataset iterator\n",
        "def inf_train_gen(data, rng=None, batch_size=200, n_dim=20):\n",
        "    if rng is None:\n",
        "        rng = np.random.RandomState()\n",
        "\n",
        "    if data == \"8gaussians\":\n",
        "        scale = 0.5\n",
        "        centers = [\n",
        "            (1, 0), (-1, 0), (0, 1), (0, -1),\n",
        "            (1. / np.sqrt(2), 1. / np.sqrt(2)),\n",
        "            (1. / np.sqrt(2), -1. / np.sqrt(2)),\n",
        "            (-1. / np.sqrt(2), 1. / np.sqrt(2)),\n",
        "            (-1. / np.sqrt(2), -1. / np.sqrt(2))\n",
        "        ]\n",
        "        centers = [(scale * x, scale * y) + (0,) * (n_dim - 2) for x, y in centers]\n",
        "\n",
        "        dataset = []\n",
        "        for i in range(batch_size):\n",
        "            point = rng.randn(n_dim) * 0.5\n",
        "            idx = rng.randint(8)\n",
        "            center = centers[idx]\n",
        "            point += np.array(center)\n",
        "            dataset.append(point)\n",
        "        dataset = np.array(dataset, dtype=\"float32\")\n",
        "        dataset /= 1.414\n",
        "        return dataset\n",
        "\n",
        "def plot_8gaussians_projections(data, num_projections=3):\n",
        "    \"\"\"\n",
        "    Plot projections of the multidimensional 8 Gaussians data.\n",
        "\n",
        "    :param data: numpy array of shape (n_samples, n_dimensions)\n",
        "    :param num_projections: number of 2D projections to plot\n",
        "    \"\"\"\n",
        "    n_samples, n_dim = data.shape\n",
        "    fig, axs = plt.subplots(1, 4, figsize=(16, 4))\n",
        "\n",
        "    # 2D projections\n",
        "    for i, ax in zip(range(num_projections), axs):\n",
        "        dim1, dim2 = np.random.choice(n_dim, 2, replace=False)\n",
        "        # ax = fig.add_subplot(((num_projections + 2) // 3), 3, i+1)\n",
        "        ax.scatter(data[:, dim1], data[:, dim2], alpha=0.5)\n",
        "        ax.set_title(f'2D Projection: Dim {dim1} vs Dim {dim2}')\n",
        "        ax.set_xlabel(f'Dimension {dim1}')\n",
        "        ax.set_ylabel(f'Dimension {dim2}')\n",
        "\n",
        "    # 3D projection\n",
        "    # ax = fig.add_subplot(((num_projections + 2) // 3), 3, num_projections+1, projection='3d')\n",
        "    if n_dim >= 3:\n",
        "      dim1, dim2, dim3 = np.random.choice(n_dim, 3, replace=False)\n",
        "      # change property of ax[-1] to accomodate 3d projection:\n",
        "      axs[-1] = fig.add_subplot(1, 4, 4, projection='3d')\n",
        "      axs[-1].scatter(data[:, dim1], data[:, dim2], data[:, dim3], alpha=0.5)\n",
        "      axs[-1].set_title(f'3D Projection: Dim {dim1} vs Dim {dim2} vs Dim {dim3}')\n",
        "      axs[-1].set_xlabel(f'Dimension {dim1}')\n",
        "      axs[-1].set_ylabel(f'Dimension {dim2}')\n",
        "      axs[-1].set_zlabel(f'Dimension {dim3}')\n",
        "\n",
        "    plt.tight_layout()\n",
        "    plt.show()\n",
        "\n",
        "\n",
        "rng = np.random.RandomState(42)\n",
        "toy_data = inf_train_gen(\"8gaussians\", rng, batch_size=200, n_dim=2)\n",
        "plot_8gaussians_projections(toy_data, num_projections=3)"
      ],
      "metadata": {
        "colab": {
          "base_uri": "https://localhost:8080/",
          "height": 387
        },
        "id": "gCkRa2MfvuBj",
        "outputId": "28ecb43a-bc63-45d4-f68a-3de8ad2ac0e6"
      },
      "execution_count": null,
      "outputs": [
        {
          "output_type": "display_data",
          "data": {
            "text/plain": [
              "<Figure size 1600x400 with 4 Axes>"
            ],
            "image/png": "[encoded data removed]"
          },
          "metadata": {}
        }
      ]
    },
    {
      "cell_type": "code",
      "source": [],
      "metadata": {
        "id": "Tk4M2ypU0zvj"
      },
      "execution_count": null,
      "outputs": []
    },
    {
      "cell_type": "code",
      "source": [],
      "metadata": {
        "id": "R_kKHXz60zk5"
      },
      "execution_count": null,
      "outputs": []
    },
    {
      "cell_type": "code",
      "source": [
        "# Simple way to use Custom Markers (thanks StackOverflow - https://stackoverflow.com/a/15883684)\n",
        "\n",
        "# from numpy import *\n",
        "# import matplotlib.pyplot as plt\n",
        "\n",
        "# symbols = [u'\\u2B21',\n",
        "#            u'\\u263A',\n",
        "#            u'\\u29C6',\n",
        "#            u'\\u2B14',\n",
        "#            u'\\u2B1A',\n",
        "#            u'\\u25A6',\n",
        "#            u'\\u229E',\n",
        "#            u'\\u22A0',\n",
        "#            u'\\u22A1',\n",
        "#            u'\\u20DF',\n",
        "#            u'\\u2B2C']\n",
        "\n",
        "# x = arange(10.)\n",
        "# y = arange(10.)\n",
        "\n",
        "# plt.figure()\n",
        "# for i, symbol in enumerate(symbols):\n",
        "#     y2 = y + 4*i\n",
        "#     plt.plot(x, y2, 'g')\n",
        "#     marker = \"$%s$\" % symbol\n",
        "#     print(marker)\n",
        "#     plt.plot(x, y2, 'k', marker=marker, markersize=30)"
      ],
      "metadata": {
        "id": "--deKi2ip_eq"
      },
      "execution_count": null,
      "outputs": []
    },
    {
      "cell_type": "code",
      "source": [],
      "metadata": {
        "id": "8ACYtPxUrBoV"
      },
      "execution_count": null,
      "outputs": []
    }
  ]
}