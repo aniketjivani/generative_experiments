{
 "cells": [
  {
   "cell_type": "markdown",
   "metadata": {},
   "source": [
    "We run some quick tests on our ability to use kernel functions to compute distances in high dimensions. Theory from Ramdas et. al.(2015) paper on hypothesis testing power - https://dl.acm.org/doi/10.5555/2888116.2888212#"
   ]
  },
  {
   "cell_type": "markdown",
   "metadata": {},
   "source": [
    "$m$ samples from $P$ - $x_1, \\cdots, x_m$ and\n",
    "\n",
    "$P$ supported on $\\mathcal{X} \\subseteq \\mathbb{R}^d$.\n",
    "\n",
    "$Q$ supported on $\\mathcal{Y} \\subseteq \\mathbb{R}^d$.\n",
    "\n",
    "$n$ samples from $Q$ - $y_1, \\cdots, y_n$\n",
    "\n",
    "Two sample or homogeneity testing:\n",
    "\n",
    "$$H_0: P=Q$$\n",
    "\n",
    "$$H_1: P\\neq Q$$\n",
    "\n",
    "Non-kernel based method: $\\chi^2$ statistic. Reject null hypothesis of equal proportions if the test statistic $\\geq\n",
    "\\chi^2_{\\alpha, k-1}$\n",
    "\n",
    "Independence testing: For $(x_i, y_i)$ drawn from $P_{XY}$,\n",
    "\n",
    "$$H_0: P_{XY} = P_X \\times P_Y$$\n",
    "\n",
    "$$H_1: P_{XY} \\neq P_X \\times P_Y$$\n",
    "\n",
    "Misconception? Estimating the mean of the Gaussian is harder than deciding whether the mean is non-zero or not.\n",
    "\n",
    "Reality? Test statistics have low estimation error that is independent of dimension, but decision problem of whether they are non-zero or not _gets harder_.\n",
    "\n",
    "_Power_ : prob of avoiding type 2 error i.e. avoid rejecting null hypothesis when in fact it is false. Increases with:\n",
    "\n",
    "- significance region $\\alpha$ i.e. leads to larger rejection region\n",
    "\n",
    "- sample size $n$\n",
    "\n",
    "- difference between hypothesized value, true value i.e. difference beteween parameter values for two treatment groups.\n",
    "\n",
    "Low power == Low detection rate. exacerbated in very high dimensions"
   ]
  },
  {
   "cell_type": "markdown",
   "metadata": {},
   "source": [
    "**Kernel-based methods**\n",
    "\n",
    "From [Francis Bach](https://www.di.ens.fr/~fbach/hbcm_2013_kertest_spm.pdf)\n",
    "\n",
    "    - robust test statistics (provide results over larger classes of data distributions, not just Gaussian etc.)\n",
    "\n",
    "    - apply to structure data (representation as scalars / vectors would result in loss of information - e.g. graphs, image histograms, etc.)\n",
    "\n",
    "    Temporal segmentation: equivalent problem is reducing it to multiple tests for homogeneity between parts of a sliding window over the signal.\n",
    "\n",
    "    > Kernel based test statistics correspond to consistent estimators of well-known information divergences between probability distributions.\n",
    "\n",
    "For an RKHS $H_k$, the positive-definite kernel is given by:\n",
    "\n",
    "$$k(x, y) = <\\phi(x), \\phi(y)>_{k}$$\n",
    "\n",
    "(interpretation of PSD kernel as a dotproduct in Hilbert space)\n",
    "\n",
    "\n",
    "Mean embedding of $P$: $\\mu_P := \\mathbb{E}_{x \\sim P}\\phi_x$\n",
    "\n",
    "Empirical Estimate: \n",
    "\n",
    "$$\\mu_P = \\frac{1}{n} \\sum_{i=1}^n \\phi(x_i)$$\n",
    "\n",
    "**Independence Testing**:\n",
    "\n",
    "Maximum mean discrepancy (MMD):\n",
    "\n",
    "$$\\textrm{MMD}^2(P, Q) = \\|\\mu_P - \\mu_Q \\|_k^2$$\n",
    "\n",
    "\n",
    "where $\\|\\cdot\\|_k^2 = <\\cdot, \\cdot>_k$\n",
    "\n",
    "\n",
    "Empirical (and biased) test statistic: (make unbiased by removing $k(x_i, x_i)$, $k(y_i, y_i)$)\n",
    "\n",
    "$$\\textrm{MMD}_b^2(P, Q) = \\|\\hat{\\mu}_P - \\hat{\\mu}_Q \\|_k^2 = \\frac{1}{n^2}\\sum_{i} \\sum_{j} k(x_i, x_j) + \\frac{1}{m^2}\\sum_{i} \\sum_{j} k(y_i, y_j) - \\frac{2}{mn} \\sum_{i}\\sum_{j} k(x_i, y_j)$$\n",
    "\n",
    "\n",
    "**Two-sample testing**:\n",
    "\n",
    "$$\\textrm{dCor}_n^2(X, Y)=\\frac{\\textrm{dCov}_n^2(X, Y)}{\\sqrt{\\textrm{dCov}_n^2(X, X) \\textrm{dCov}_n^2(X, Y)}}$$\n",
    "\n",
    "where $\\textrm{dCov}$ is the distance covariance based on centered $L_1$ distance matrices of $X$ and $Y$.\n",
    "\n",
    "\n",
    "<font color='red'> Any algorithm for two-sample testing also yields an algorithm for the latter (the reverse is also true!), so the problems are related. </font>"
   ]
  },
  {
   "cell_type": "markdown",
   "metadata": {},
   "source": [
    "Typical process:\n",
    "    \n",
    "- calculate test statistic $T$.\n",
    "\n",
    "- For prespecified type-1 error $\\alpha$, calculate threshold $t_\\alpha$ \n",
    "\n",
    "- reject $H_0$ if $T > t_\\alpha$\n",
    "\n",
    "For a fixed type 1 error, the test is consistent if as $n \\rightarrow \\infty$, the type-2 error goes to zero, or the power goes to 1.\n",
    "\n",
    "\n",
    "_Empirical estimate of power_:\n",
    "\n",
    "Fraction of successes (fraction of rejections of $H_0$ over many independent trials where each trial will involve drawing $m+n$ samples, and recomputing the test statistic for many permulations of the samples).\n",
    "\n",
    "<font color='red'> _When a test works well, it is understood to mean that it has high power with a controlled type-1 error_ </font>"
   ]
  },
  {
   "cell_type": "code",
   "execution_count": 2,
   "metadata": {},
   "outputs": [],
   "source": [
    "import numpy as np\n",
    "import scipy\n",
    "from sklearn.gaussian_process.kernels import RBF\n",
    "from sklearn.metrics import pairwise_distances\n",
    "from rich.progress import track"
   ]
  },
  {
   "cell_type": "markdown",
   "metadata": {},
   "source": [
    "#### Power for Hypothesis Tests"
   ]
  },
  {
   "cell_type": "markdown",
   "metadata": {},
   "source": [
    "Proposed toy example by Ramdas et al. - as $d$ increases, ensure that the KL divergence between $P$ and $Q$ remains constant (two-sample testing). for independence testing, the MI should remain constant i.e. don't make a moving target for estimating power of the test when $d$ is changing. A valid choice that satisfies the above is:\n",
    "\n",
    "$\\mu_P=(0, 0, 0, \\cdots, 0) \\qquad \\mu_Q=(1, 0, 0, \\cdots, 0)$"
   ]
  },
  {
   "cell_type": "code",
   "execution_count": 3,
   "metadata": {},
   "outputs": [],
   "source": [
    "def median_heuristic(xarr):\n",
    "    \"\"\"\n",
    "    Set bandwidth $h$ for the RBF kernel to be h = med squared / \n",
    "    log n where med is the median of pairwise distances for all n\n",
    "    points in xarr (scholkopf and smola 2002).\n",
    "    \"\"\"\n",
    "    \n",
    "    n_rvs = xarr.shape[0]\n",
    "    n_tril = int(n_rvs * (n_rvs - 1) / 2)\n",
    "    \n",
    "    n = int(n_rvs * n_rvs)\n",
    "    \n",
    "    pds_raw = pairwise_distances(xarr)\n",
    "    \n",
    "    pds_tril = pds_raw[np.tril_indices(n_rvs, k=-1)]\n",
    "    \n",
    "    h_est = np.median(pds_tril) / np.log(n_tril)\n",
    "    \n",
    "    #     kernel_estimates = np.exp(- (pds**2) / (h_est**2))\n",
    "    \n",
    "    return pds_tril, h_est"
   ]
  },
  {
   "cell_type": "code",
   "execution_count": 4,
   "metadata": {},
   "outputs": [],
   "source": [
    "dim_val=100\n",
    "dd_vals = np.linspace(1, dim_val, dim_val, dtype=int)\n",
    "# initialize multivariate Gaussian distribution.\n",
    "\n",
    "all_h = np.zeros(dim_val)\n",
    "all_pds = []\n",
    "for i, d in enumerate(dd_vals):\n",
    "#     print(\"Processing dimension, \", d)\n",
    "    x_dist = scipy.stats.multivariate_normal(mean=2.5*np.ones(d),\n",
    "                                            cov=np.eye(d))\n",
    "    \n",
    "    rvs_d = x_dist.rvs(size=50)\n",
    "    \n",
    "    if d == 1:\n",
    "        rvs_d = rvs_d.reshape(-1, 1)\n",
    "    \n",
    "    pds, h_est = median_heuristic(rvs_d)\n",
    "    \n",
    "    \n",
    "    all_pds.append(pds)\n",
    "    all_h[i] = h_est"
   ]
  },
  {
   "cell_type": "code",
   "execution_count": 5,
   "metadata": {},
   "outputs": [
    {
     "name": "stdout",
     "output_type": "stream",
     "text": [
      "{'edgeitems': 3, 'threshold': 1000, 'floatmode': 'maxprec', 'precision': 3, 'suppress': False, 'linewidth': 75, 'nanstr': 'nan', 'infstr': 'inf', 'sign': '-', 'formatter': None, 'legacy': False}\n"
     ]
    }
   ],
   "source": [
    "np.set_printoptions(precision=3)\n",
    "print(np.get_printoptions())"
   ]
  },
  {
   "cell_type": "code",
   "execution_count": 6,
   "metadata": {},
   "outputs": [
    {
     "data": {
      "text/plain": [
       "(1225,)"
      ]
     },
     "execution_count": 6,
     "metadata": {},
     "output_type": "execute_result"
    }
   ],
   "source": [
    "all_pds[1].shape"
   ]
  },
  {
   "cell_type": "markdown",
   "metadata": {},
   "source": [
    "How does the ratio between pairwise distances and bandwidth change?"
   ]
  },
  {
   "cell_type": "code",
   "execution_count": 7,
   "metadata": {},
   "outputs": [],
   "source": [
    "kd_dim001 = np.sort(np.exp(- (all_pds[0]**2) / (all_h[0]**2)))\n",
    "kd_dim025 = np.sort(np.exp(- (all_pds[24]**2) / (all_h[24]**2)))\n",
    "kd_dim100 = np.sort(np.exp(- (all_pds[-1]**2) / (all_h[-1]**2)))"
   ]
  },
  {
   "cell_type": "code",
   "execution_count": 8,
   "metadata": {},
   "outputs": [
    {
     "data": {
      "text/plain": [
       "((1225,), (1225,))"
      ]
     },
     "execution_count": 8,
     "metadata": {},
     "output_type": "execute_result"
    }
   ],
   "source": [
    "kd_dim001.shape, kd_dim100.shape"
   ]
  },
  {
   "cell_type": "code",
   "execution_count": 9,
   "metadata": {},
   "outputs": [],
   "source": [
    "import matplotlib.pyplot as plt"
   ]
  },
  {
   "cell_type": "code",
   "execution_count": 10,
   "metadata": {},
   "outputs": [
    {
     "data": {
      "text/plain": [
       "(1.3440173024350117e-44, 2.067874891185835e-05)"
      ]
     },
     "execution_count": 10,
     "metadata": {},
     "output_type": "execute_result"
    }
   ],
   "source": [
    "kd_dim025.min(), kd_dim025.max()"
   ]
  },
  {
   "cell_type": "code",
   "execution_count": 11,
   "metadata": {},
   "outputs": [
    {
     "data": {
      "text/plain": [
       "<matplotlib.legend.Legend at 0x7f93dd079640>"
      ]
     },
     "execution_count": 11,
     "metadata": {},
     "output_type": "execute_result"
    },
    {
     "data": {
      "image/png": "[encoded data removed]",
      "text/plain": [
       "<Figure size 640x480 with 1 Axes>"
      ]
     },
     "metadata": {},
     "output_type": "display_data"
    }
   ],
   "source": [
    "plt.semilogy(np.linspace(1, 1225, 1225), \n",
    "         kd_dim001, \n",
    "         label=\"dim 1\")\n",
    "plt.semilogy(np.linspace(1, 1225, 1225), \n",
    "         kd_dim025, \n",
    "         label=\"dim 25\")\n",
    "plt.semilogy(np.linspace(1, 1225, 1225), \n",
    "         kd_dim100, \n",
    "         label=\"dim 100\")\n",
    "plt.ylabel(\"RBF kernel evaluations\")\n",
    "# plt.ylim(0, 0.01)\n",
    "plt.legend()"
   ]
  },
  {
   "cell_type": "markdown",
   "metadata": {},
   "source": [
    "The above may not be reflective of estimates of kernel as the posterior distribution is updated. How does it translate to a high-dim Gaussian posterior with multiple modes?"
   ]
  },
  {
   "cell_type": "code",
   "execution_count": null,
   "metadata": {},
   "outputs": [],
   "source": []
  },
  {
   "cell_type": "code",
   "execution_count": null,
   "metadata": {},
   "outputs": [],
   "source": []
  },
  {
   "cell_type": "code",
   "execution_count": null,
   "metadata": {},
   "outputs": [],
   "source": []
  },
  {
   "cell_type": "code",
   "execution_count": null,
   "metadata": {},
   "outputs": [],
   "source": []
  },
  {
   "cell_type": "code",
   "execution_count": null,
   "metadata": {},
   "outputs": [],
   "source": []
  },
  {
   "cell_type": "code",
   "execution_count": null,
   "metadata": {},
   "outputs": [],
   "source": [
    "# x_dist = scipy.stats.multivariate_normal(mean=np.zeros(5000),\n",
    "#                                             cov=np.eye(5000))\n",
    "# rvs_d = x_dist.rvs(size=50)\n",
    "# pds = pairwise_distances(rvs_d).flatten()\n",
    "\n",
    "# pds.shape"
   ]
  },
  {
   "cell_type": "code",
   "execution_count": null,
   "metadata": {},
   "outputs": [],
   "source": [
    "# np.median(pds)"
   ]
  },
  {
   "cell_type": "code",
   "execution_count": null,
   "metadata": {},
   "outputs": [],
   "source": [
    "h_est"
   ]
  },
  {
   "cell_type": "code",
   "execution_count": null,
   "metadata": {},
   "outputs": [],
   "source": [
    "# pairwise_distances(rvs_d).shape"
   ]
  },
  {
   "cell_type": "markdown",
   "metadata": {},
   "source": [
    "#### Behaviour of Common Kernels in high-dimensions\n",
    "\n",
    "(what happens to the repulsive term? As the bandwidth goes to zero, the SVGD update reduces to estimation of MAP, and particles would collapse into local modes) - we will estimate distances for many samples drawn from the same Gaussian distribution."
   ]
  },
  {
   "cell_type": "code",
   "execution_count": null,
   "metadata": {},
   "outputs": [],
   "source": []
  }
 ],
 "metadata": {
  "@webio": {
   "lastCommId": null,
   "lastKernelId": null
  },
  "kernelspec": {
   "display_name": "Python 3 (ipykernel)",
   "language": "python",
   "name": "python3"
  },
  "language_info": {
   "codemirror_mode": {
    "name": "ipython",
    "version": 3
   },
   "file_extension": ".py",
   "mimetype": "text/x-python",
   "name": "python",
   "nbconvert_exporter": "python",
   "pygments_lexer": "ipython3",
   "version": "3.8.13"
  }
 },
 "nbformat": 4,
 "nbformat_minor": 4
}
