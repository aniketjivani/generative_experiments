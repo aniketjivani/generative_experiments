{
 "cells": [
  {
   "cell_type": "markdown",
   "id": "3294af3c",
   "metadata": {},
   "source": [
    "Approximate an estimator of a function of a high-fidelity nonlinear model by applying nested multifidelity ACVs - which look suspiciously like group ACVs. The first level partitions the original function and learns control weights for the same. (variance reduction for full gradient - which is an expectation over $n$ particles)\n",
    "\n",
    "The (optional) second level separates the expectation terms related to the high-fidelity nonlinear model and decomposes them to yield another ACV that uses the low-fidelity models. (variance reduction for expectation of likelihood)\n",
    "\n",
    "This is useful for accelerating particle-based inference and downstream optimization tasks that require posterior approximation. Using only the inner nested level does not decompose the kernel gradient correctly while using only the outer level brings less speedups on account of still retaining a significant chunk of the high-fidelity model evaluations. (All of this really depends on how we define the multifidelityness of the original function i.e. only in terms of the likelihood or considering both kernel and likelihood).\n",
    "\n",
    "_Unknowns_:\n",
    "\n",
    "- does this work? shouldn't particles for lower-fidelity likelihoods simply diverge farther away from high-fidelity estimate of posterior?\n",
    "\n",
    "- gradients are 2D for toy problem and many many D for a real one. Is there some average QoI we can target? e.g. magnitude of particle velocity or reframe the problem? \n",
    "\n",
    "- are kernel evaluations now restricted to smaller subsets of particles? (interactions between levels forbidden or not?)\n",
    "\n",
    "- can a common kernel function serve us well in terms of expressiveness? A truly nested ACV would be one where we change the neighbourhood size for each particle on one level and assign particles on another.\n",
    "\n",
    "- Does the multifidelity allocation step get repeated at every iteration if the covariances are not between log-lik-gradients and we use an estimate of the covariances between Stein gradients instead?\n",
    "\n",
    "- restrictive for model form? could we make this work for implicit likelihoods?\n",
    "\n",
    "- can OED (in general) select points for training multiple models or not? - LATER, but very promising - it would make for a good paper.\n"
   ]
  },
  {
   "cell_type": "code",
   "execution_count": 1,
   "id": "abfc4ede",
   "metadata": {},
   "outputs": [
    {
     "name": "stderr",
     "output_type": "stream",
     "text": [
      "/Users/ajivani/opt/anaconda3/lib/python3.8/site-packages/pandas/core/computation/expressions.py:20: UserWarning: Pandas requires version '2.7.3' or newer of 'numexpr' (version '2.7.1' currently installed).\n",
      "  from pandas.core.computation.check import NUMEXPR_INSTALLED\n"
     ]
    }
   ],
   "source": [
    "import os\n",
    "import re\n",
    "import numpy as np\n",
    "import torch\n",
    "import scipy\n",
    "from scipy.spatial.distance import pdist, squareform\n",
    "from scipy.stats import multivariate_normal\n",
    "from scipy.stats import qmc\n",
    "import numpy.matlib as nm\n",
    "\n",
    "from mxmc import Optimizer\n",
    "\n",
    "from rich.progress import track"
   ]
  },
  {
   "cell_type": "code",
   "execution_count": 2,
   "id": "b7f61177",
   "metadata": {},
   "outputs": [],
   "source": [
    "import matplotlib.pyplot as plt\n",
    "import seaborn as sns\n",
    "\n",
    "plt.rc(\"axes.spines\", right=True, top=True)\n",
    "plt.rc(\"figure\",\n",
    "      #  dpi=150,\n",
    "      #  figsize=(9, 3)\n",
    "      )\n",
    "plt.rc(\"font\", family=\"serif\")\n",
    "plt.rc(\"legend\", edgecolor=\"none\", frameon=True)\n",
    "plt.style.use(\"dark_background\")\n",
    "\n",
    "marker_symbol = u'\\u2B2C'"
   ]
  },
  {
   "cell_type": "code",
   "execution_count": 3,
   "id": "967f3a52",
   "metadata": {},
   "outputs": [],
   "source": [
    "sampler = qmc.Sobol(d=2, scramble=False)\n",
    "initial_particles = sampler.random(n=512)\n",
    "\n",
    "# rescale initial points to lie within -1, 1\n",
    "initial_particles = 2 * initial_particles - 1"
   ]
  },
  {
   "cell_type": "code",
   "execution_count": 4,
   "id": "e5ef9045",
   "metadata": {},
   "outputs": [],
   "source": [
    "costs = np.array([1, 0.25])"
   ]
  },
  {
   "cell_type": "code",
   "execution_count": 5,
   "id": "e6a85596",
   "metadata": {},
   "outputs": [],
   "source": [
    "mu_oracle_hf = np.array([0.5, 0.2])\n",
    "cov_oracle_hf = np.array([[2.0, 0.3], [0.3, 0.5]])\n",
    "\n",
    "mu_oracle_lf = np.array([0.8, 0.32])\n",
    "cov_oracle_lf = np.array([[1.5, 0.35], [0.35, 0.5]])"
   ]
  },
  {
   "cell_type": "code",
   "execution_count": 6,
   "id": "b84e1d74",
   "metadata": {},
   "outputs": [],
   "source": [
    "# obviously same defns for toy experiment (two Gaussians)\n",
    "def mvn_dlnprob_hf(theta, mu, cov):\n",
    "    return -1*np.matmul(theta-nm.repmat(mu, theta.shape[0], 1),\n",
    "                        np.linalg.inv(cov))\n",
    "\n",
    "def mvn_dlnprob_lf(theta, mu, cov):\n",
    "    return -1*np.matmul(theta-nm.repmat(mu, theta.shape[0], 1),\n",
    "                        np.linalg.inv(cov))"
   ]
  },
  {
   "cell_type": "code",
   "execution_count": 7,
   "id": "a083b0d2",
   "metadata": {},
   "outputs": [],
   "source": [
    "class RBF(torch.nn.Module):\n",
    "    def __init__(self, sigma=None):\n",
    "        super(RBF, self).__init__()\n",
    "\n",
    "        self.sigma = sigma\n",
    "\n",
    "    def forward(self, X, Y):\n",
    "        XX = X.matmul(X.t())\n",
    "        XY = X.matmul(Y.t())\n",
    "        YY = Y.matmul(Y.t())\n",
    "\n",
    "        dnorm2 = -2 * XY + XX.diag().unsqueeze(1) + YY.diag().unsqueeze(0)\n",
    "\n",
    "        # Apply the median heuristic (PyTorch does not give true median)\n",
    "        if self.sigma is None:\n",
    "            np_dnorm2 = dnorm2.detach().cpu().numpy()\n",
    "            h = np.median(np_dnorm2) / (2 * np.log(X.size(0) + 1))\n",
    "            sigma = np.sqrt(h).item()\n",
    "        else:\n",
    "            sigma = self.sigma\n",
    "\n",
    "        gamma = 1.0 / (1e-8 + 2 * sigma ** 2)\n",
    "        K_XY = (-gamma * dnorm2).exp()\n",
    "\n",
    "        return K_XY\n",
    "\n",
    "# Let us initialize a reusable instance right away.\n",
    "K = RBF()"
   ]
  },
  {
   "cell_type": "code",
   "execution_count": 8,
   "id": "c6ff9a6f",
   "metadata": {},
   "outputs": [],
   "source": [
    "class SVGD_ll():\n",
    "    \"\"\"\n",
    "    Low-level SVGD implementation from DartML\n",
    "    \"\"\"\n",
    "    def __init__(self):\n",
    "        pass\n",
    "\n",
    "    def svgd_kernel(self, theta, h = -1):\n",
    "        sq_dist = pdist(theta)\n",
    "        pairwise_dists = squareform(sq_dist)**2\n",
    "        if h < 0: # if h < 0, using median trick\n",
    "            h = np.median(pairwise_dists)\n",
    "            h = np.sqrt(0.5 * h / np.log(theta.shape[0]+1))\n",
    "\n",
    "        # compute the rbf kernel\n",
    "        Kxy = np.exp( -pairwise_dists / h**2 / 2)\n",
    "\n",
    "        dxkxy = -np.matmul(Kxy, theta)\n",
    "        sumkxy = np.sum(Kxy, axis=1)\n",
    "        for i in range(theta.shape[1]):\n",
    "            dxkxy[:, i] = dxkxy[:,i] + np.multiply(theta[:,i],sumkxy)\n",
    "        dxkxy = dxkxy / (h**2)\n",
    "        return (Kxy, dxkxy, h)\n",
    "\n",
    "    # add new function for getting grads only.\n",
    "    def update_grad(self, theta_all, lnprob,\n",
    "               mu,\n",
    "               cov,\n",
    "               n_iter = 1000,\n",
    "               stepsize = 1e-3,\n",
    "               bandwidth = -1,\n",
    "               alpha = 0.9,\n",
    "               return_all = False,\n",
    "               debug = False):\n",
    "        \n",
    "        \"\"\"\n",
    "        Using particle positions calculated via High-fidelity likelihood updates, find the corresponding gradients \n",
    "        if the low fidelity particles had been used. That way, the likelihoods and the gradients can be CORRECTLY\n",
    "        correlated.\n",
    "        \"\"\"\n",
    "        # Check input\n",
    "        if lnprob is None:\n",
    "            raise ValueError('lnprob cannot be None!')\n",
    "\n",
    "        # adagrad with momentum\n",
    "        fudge_factor = 1e-6\n",
    "        historical_grad = 0\n",
    "        adj_grads = []\n",
    "        lnpgrad_inter = np.zeros((theta_all.shape[0], theta_all.shape[1], n_iter))\n",
    "        for iter in track(range(n_iter), description=\"Running iterations for particle position updates...\"):\n",
    "            if debug and (iter+1) % 1000 == 0:\n",
    "                print('iter ' + str(iter+1))\n",
    "\n",
    "            lnpgrad = lnprob(theta_all[:, :, iter], mu, cov)\n",
    "            lnpgrad_inter[:, :, iter] = lnpgrad\n",
    "            # calculating the kernel matrix\n",
    "            kxy, dxkxy, h = self.svgd_kernel(theta_all[:, :, iter], h=-1)\n",
    "            grad_theta = (np.matmul(kxy, lnpgrad) + dxkxy) / theta_all.shape[0]\n",
    "            lengthscales_all[iter] = h\n",
    "\n",
    "#             # adagrad\n",
    "#             if iter == 0:\n",
    "#                 historical_grad = historical_grad + grad_theta ** 2\n",
    "#             else:\n",
    "#                 historical_grad = alpha * historical_grad + (1 - alpha) * (grad_theta ** 2)\n",
    "#             adj_grad = np.divide(grad_theta, fudge_factor+np.sqrt(historical_grad))\n",
    "#             adj_grads.append(adj_grad)\n",
    "\n",
    "            adj_grads.append(grad_theta)\n",
    "            \n",
    "        return lnpgrad_inter, adj_grads\n",
    "    \n",
    "    def update(self, x0, lnprob,\n",
    "               mu,\n",
    "               cov,\n",
    "               n_iter = 1000,\n",
    "               stepsize = 1e-3,\n",
    "               bandwidth = -1,\n",
    "               alpha = 0.9,\n",
    "               return_all = False,\n",
    "               debug = False):\n",
    "        # Check input\n",
    "        if x0 is None or lnprob is None:\n",
    "            raise ValueError('x0 or lnprob cannot be None!')\n",
    "\n",
    "        theta_all = np.zeros((x0.shape[0], x0.shape[1], n_iter))\n",
    "        lengthscales_all = np.zeros(n_iter)\n",
    "        theta = np.copy(x0)\n",
    "        lnpgrad_inter = np.zeros((x0.shape[0], x0.shape[1], n_iter))\n",
    "        # adagrad with momentum\n",
    "        fudge_factor = 1e-6\n",
    "        historical_grad = 0\n",
    "        kxy_final = []\n",
    "        dxkxy_final = []\n",
    "        lnpgrad_final = []\n",
    "        adj_grads = []\n",
    "        for iter in track(range(n_iter), description=\"Running iterations for particle position updates...\"):\n",
    "            if debug and (iter+1) % 1000 == 0:\n",
    "                print('iter ' + str(iter+1))\n",
    "\n",
    "            lnpgrad = lnprob(theta, mu, cov)\n",
    "            lnpgrad_inter[:, :, iter] = lnpgrad\n",
    "            # calculating the kernel matrix\n",
    "            kxy, dxkxy, h = self.svgd_kernel(theta, h=-1)\n",
    "            grad_theta = (np.matmul(kxy, lnpgrad) + dxkxy) / x0.shape[0]\n",
    "\n",
    "            lengthscales_all[iter] = h\n",
    "\n",
    "            # adagrad\n",
    "            if iter == 0:\n",
    "                historical_grad = historical_grad + grad_theta ** 2\n",
    "            else:\n",
    "                historical_grad = alpha * historical_grad + (1 - alpha) * (grad_theta ** 2)\n",
    "            adj_grad = np.divide(grad_theta, fudge_factor+np.sqrt(historical_grad))\n",
    "#             theta = theta + stepsize * adj_grad\n",
    "            theta = theta + stepsize * grad_theta\n",
    "\n",
    "#             adj_grads.append(adj_grad)\n",
    "            adj_grads.append(grad_theta)\n",
    "            theta_all[:, :, iter] = theta\n",
    "            if iter == n_iter - 1:\n",
    "                kxy_final = kxy\n",
    "                dxkxy_final = dxkxy\n",
    "                lnpgrad_final = lnpgrad\n",
    "        if return_all:\n",
    "            return theta_all, lengthscales_all, kxy_final, dxkxy_final, lnpgrad_final, adj_grads, lnpgrad_inter\n",
    "        else:\n",
    "            return theta"
   ]
  },
  {
   "cell_type": "code",
   "execution_count": 11,
   "id": "fac2a5ed",
   "metadata": {},
   "outputs": [],
   "source": [
    "class SVGD_rk4():\n",
    "    \"\"\"\n",
    "    Low-level SVGD implementation with Adagrad replaced by Runge-Kutta\n",
    "    \"\"\"\n",
    "    def __init__(self):\n",
    "        pass\n",
    "\n",
    "    def svgd_kernel(self, theta, h = -1):\n",
    "        sq_dist = pdist(theta)\n",
    "        pairwise_dists = squareform(sq_dist)**2\n",
    "        if h < 0: # if h < 0, using median trick\n",
    "            h = np.median(pairwise_dists)\n",
    "            h = np.sqrt(0.5 * h / np.log(theta.shape[0]+1))\n",
    "\n",
    "        # compute the rbf kernel\n",
    "        Kxy = np.exp( -pairwise_dists / h**2 / 2)\n",
    "\n",
    "        dxkxy = -np.matmul(Kxy, theta)\n",
    "        sumkxy = np.sum(Kxy, axis=1)\n",
    "        for i in range(theta.shape[1]):\n",
    "            dxkxy[:, i] = dxkxy[:,i] + np.multiply(theta[:,i],sumkxy)\n",
    "        dxkxy = dxkxy / (h**2)\n",
    "        return (Kxy, dxkxy, h)\n",
    "    \n",
    "    def update(self, x0, lnprob,\n",
    "               mu,\n",
    "               cov,\n",
    "               n_iter = 1000,\n",
    "               stepsize = 1e-3,\n",
    "               bandwidth = -1,\n",
    "               alpha = 0.9,\n",
    "               return_all = False,\n",
    "               debug = False):\n",
    "        # Check input\n",
    "        if x0 is None or lnprob is None:\n",
    "            raise ValueError('x0 or lnprob cannot be None!')\n",
    "\n",
    "        theta_all = np.zeros((x0.shape[0], x0.shape[1], n_iter))\n",
    "        lengthscales_all = np.zeros(n_iter)\n",
    "        theta = np.copy(x0)\n",
    "        lnpgrad_inter = np.zeros((x0.shape[0], x0.shape[1], n_iter))\n",
    "        # adagrad with momentum\n",
    "        fudge_factor = 1e-6\n",
    "        historical_grad = 0\n",
    "        kxy_final = []\n",
    "        dxkxy_final = []\n",
    "        lnpgrad_final = []\n",
    "        adj_grads = []\n",
    "        for iter in track(range(n_iter), description=\"Running iterations for particle position updates...\"):\n",
    "            if debug and (iter+1) % 1000 == 0:\n",
    "                print('iter ' + str(iter+1))\n",
    "\n",
    "            lnpgrad = lnprob(theta, mu, cov)\n",
    "\n",
    "            kxy, dxkxy, h = self.svgd_kernel(theta, h=-1)\n",
    "            grad_theta_1 = (np.matmul(kxy, lnpgrad) + dxkxy) / x0.shape[0]\n",
    "\n",
    "            y1 = theta + (stepsize / 2) * (grad_theta_1)\n",
    "            lnpgrad1 = lnprob(y1, mu, cov)\n",
    "            kxy1, dxkxy1, h1 = self.svgd_kernel(y1, h=-1)\n",
    "            grad_theta_2 = (np.matmul(kxy1, lnpgrad1) + dxkxy1) / x0.shape[0]\n",
    "            \n",
    "            y2 = theta + (stepsize / 2) * (grad_theta_2)\n",
    "            \n",
    "            lnpgrad2 = lnprob(y2, mu, cov)\n",
    "            kxy2, dxkxy2, h2 = self.svgd_kernel(y2, h=-1)\n",
    "            grad_theta_3 = (np.matmul(kxy2, lnpgrad2) + dxkxy2) / x0.shape[0]\n",
    "            \n",
    "            y3 = theta + (stepsize) * grad_theta_3\n",
    "            \n",
    "            lnpgrad3 = lnprob(y3, mu, cov)\n",
    "            kxy3, dxkxy3, h3 = self.svgd_kernel(y3, h=-1)\n",
    "            grad_theta_4 = (np.matmul(kxy3, lnpgrad3) + dxkxy3) / x0.shape[0]\n",
    "            \n",
    "            theta = theta + (grad_theta_1)/6 + (grad_theta_2)/3 + (grad_theta_3)/3 + (grad_theta_4)/6\n",
    "            \n",
    "            lengthscales_all[iter] = h3\n",
    "            \n",
    "            adj_grads.append((grad_theta_1)/6 + (grad_theta_2)/3 + (grad_theta_3)/3 + (grad_theta_4)/6)\n",
    "            lnpgrad_inter[:, :, iter] = lnpgrad3\n",
    "            theta_all[:, :, iter] = theta\n",
    "            if iter == n_iter - 1:\n",
    "                kxy_final = kxy3\n",
    "                dxkxy_final = dxkxy3\n",
    "                lnpgrad_final = lnpgrad3\n",
    "        if return_all:\n",
    "            return theta_all, lengthscales_all, kxy_final, dxkxy_final, lnpgrad_final, adj_grads, lnpgrad_inter\n",
    "        else:\n",
    "            return theta"
   ]
  },
  {
   "cell_type": "code",
   "execution_count": 15,
   "id": "4dc9dd57",
   "metadata": {},
   "outputs": [
    {
     "data": {
      "application/vnd.jupyter.widget-view+json": {
       "model_id": "07ae542a580048a284afe2b8ff28f51d",
       "version_major": 2,
       "version_minor": 0
      },
      "text/plain": [
       "Output()"
      ]
     },
     "metadata": {},
     "output_type": "display_data"
    },
    {
     "data": {
      "text/html": [
       "<pre style=\"white-space:pre;overflow-x:auto;line-height:normal;font-family:Menlo,'DejaVu Sans Mono',consolas,'Courier New',monospace\"></pre>\n"
      ],
      "text/plain": []
     },
     "metadata": {},
     "output_type": "display_data"
    },
    {
     "data": {
      "text/html": [
       "<pre style=\"white-space:pre;overflow-x:auto;line-height:normal;font-family:Menlo,'DejaVu Sans Mono',consolas,'Courier New',monospace\">\n",
       "</pre>\n"
      ],
      "text/plain": [
       "\n"
      ]
     },
     "metadata": {},
     "output_type": "display_data"
    }
   ],
   "source": [
    "post_particles_all, lengthscales_all, kxy_samp, dxkxy_samp, lnpgrad_samp, adj_grads, lnpgrad_inter = SVGD_ll().update(initial_particles,\n",
    "                                                        mvn_dlnprob_hf,\n",
    "                                                        mu_oracle_hf,\n",
    "                                                        cov_oracle_hf,\n",
    "                                                        n_iter=1000,\n",
    "                                                        stepsize=0.01,\n",
    "                                                        return_all=True)"
   ]
  },
  {
   "cell_type": "code",
   "execution_count": 13,
   "id": "f75715ea",
   "metadata": {},
   "outputs": [
    {
     "data": {
      "application/vnd.jupyter.widget-view+json": {
       "model_id": "1f5d6c00237e4536816e9860d97e6c77",
       "version_major": 2,
       "version_minor": 0
      },
      "text/plain": [
       "Output()"
      ]
     },
     "metadata": {},
     "output_type": "display_data"
    },
    {
     "data": {
      "text/html": [
       "<pre style=\"white-space:pre;overflow-x:auto;line-height:normal;font-family:Menlo,'DejaVu Sans Mono',consolas,'Courier New',monospace\"></pre>\n"
      ],
      "text/plain": []
     },
     "metadata": {},
     "output_type": "display_data"
    },
    {
     "data": {
      "text/html": [
       "<pre style=\"white-space:pre;overflow-x:auto;line-height:normal;font-family:Menlo,'DejaVu Sans Mono',consolas,'Courier New',monospace\">\n",
       "</pre>\n"
      ],
      "text/plain": [
       "\n"
      ]
     },
     "metadata": {},
     "output_type": "display_data"
    }
   ],
   "source": [
    "post_particles_hf_rk = SVGD_rk4().update(initial_particles,\n",
    "                                        mvn_dlnprob_hf,\n",
    "                                        mu_oracle_hf,\n",
    "                                        cov_oracle_hf,\n",
    "                                        n_iter=1000,\n",
    "                                        stepsize=0.01,\n",
    "                                        return_all=False)"
   ]
  },
  {
   "cell_type": "code",
   "execution_count": null,
   "id": "cbe6fe40",
   "metadata": {},
   "outputs": [],
   "source": [
    "post_particles_all.shape"
   ]
  },
  {
   "cell_type": "markdown",
   "id": "e6130fd9",
   "metadata": {},
   "source": [
    "**Edit (Jan 22)**: One important step that I missed here (because the brain completely shuts off after 10 pm) is to also compute the gradients for the low-fi particles at the locations found by the method for the hi-fi case. We will talk a little about what it means to recompute correlations by introducing additional particles in a later part of the notebook."
   ]
  },
  {
   "cell_type": "code",
   "execution_count": null,
   "id": "7d116e9b",
   "metadata": {},
   "outputs": [],
   "source": [
    "lnpgrad_lf_same, adj_grads_lf_same = SVGD_ll().update_grad(post_particles_all,\n",
    "                                    mvn_dlnprob_lf,\n",
    "                                    mu_oracle_lf,\n",
    "                                    cov_oracle_lf,\n",
    "                                    n_iter=1000,\n",
    "                                    stepsize=0.01,\n",
    "                                    )"
   ]
  },
  {
   "cell_type": "code",
   "execution_count": null,
   "id": "b2b7d45c",
   "metadata": {},
   "outputs": [],
   "source": [
    "post_particles_lf, lengthscales_lf, kxy_samp_lf, dxkxy_samp_lf, lnpgrad_samp_lf, adj_grads_lf, lnpgrad_inter_lf = SVGD_ll().update(initial_particles,\n",
    "                                                        mvn_dlnprob_lf,\n",
    "                                                        mu_oracle_lf,\n",
    "                                                        cov_oracle_lf,\n",
    "                                                        n_iter=1000,\n",
    "                                                        stepsize=0.01,\n",
    "                                                        return_all=True)"
   ]
  },
  {
   "cell_type": "code",
   "execution_count": null,
   "id": "f2dea189",
   "metadata": {},
   "outputs": [],
   "source": [
    "lengthscales_all.shape"
   ]
  },
  {
   "cell_type": "code",
   "execution_count": null,
   "id": "0583fd35",
   "metadata": {},
   "outputs": [],
   "source": [
    "plt.plot(np.linspace(1, 1000, 1000), lengthscales_all,\n",
    "         label=\"l_HF\")\n",
    "\n",
    "plt.plot(np.linspace(1, 1000, 1000), lengthscales_lf,\n",
    "         label=\"l_LF\")\n",
    "plt.xlabel(\"Iter\")\n",
    "plt.ylabel(\"Kernel \" + r\"$l$\")"
   ]
  },
  {
   "cell_type": "code",
   "execution_count": null,
   "id": "b04695d6",
   "metadata": {},
   "outputs": [],
   "source": [
    "np.array(adj_grads).shape, np.array(adj_grads_lf).shape"
   ]
  },
  {
   "cell_type": "markdown",
   "id": "5bee12e1",
   "metadata": {},
   "source": [
    "Should correlations be computed between:\n",
    "\n",
    "1. Raw model outputs\n",
    "\n",
    "2. Gradient of the log probabilities OR\n",
    "\n",
    "3. The full gradient expression?"
   ]
  },
  {
   "cell_type": "code",
   "execution_count": null,
   "id": "6628ba33",
   "metadata": {},
   "outputs": [],
   "source": [
    "g1 = adj_grads[-1]\n",
    "# g2 = adj_grads_lf[-1]\n",
    "g2 = adj_grads_lf_same[-1]\n",
    "\n",
    "# Find correlations between individual velocity components\n",
    "g_u = np.stack((g1[:, 0], g2[:, 0]))\n",
    "g_v = np.stack((g1[:, 1], g2[:, 1]))\n",
    "\n",
    "# corr_u = np.cov(g1[:, 0], g2[:, 0])\n",
    "# corr_v = np.cov(g1[:, 1], g2[:, 1])\n",
    "# corr\n",
    "\n",
    "cov_u = np.cov(g_u)\n",
    "cov_v = np.cov(g_v)\n",
    "\n",
    "print(cov_u)\n",
    "print(cov_v)"
   ]
  },
  {
   "cell_type": "code",
   "execution_count": null,
   "id": "80269a41",
   "metadata": {},
   "outputs": [],
   "source": [
    "np.array(adj_grads).shape"
   ]
  },
  {
   "cell_type": "code",
   "execution_count": null,
   "id": "0b9d58ef",
   "metadata": {},
   "outputs": [],
   "source": [
    "np.corrcoef(g_v)"
   ]
  },
  {
   "cell_type": "code",
   "execution_count": null,
   "id": "cf719748",
   "metadata": {},
   "outputs": [],
   "source": [
    "np.corrcoef(g_u)"
   ]
  },
  {
   "cell_type": "markdown",
   "id": "b0b2a97b",
   "metadata": {},
   "source": [
    "Correlations may be very poor for the composed function even for highly correlated models - this is the key issue?"
   ]
  },
  {
   "cell_type": "code",
   "execution_count": null,
   "id": "feba7b1b",
   "metadata": {},
   "outputs": [],
   "source": [
    "lnpgrad_lf_same.shape"
   ]
  },
  {
   "cell_type": "code",
   "execution_count": null,
   "id": "789235ab",
   "metadata": {},
   "outputs": [],
   "source": [
    "l_u = np.stack((lnpgrad_samp[:, 0], lnpgrad_samp_lf[:, 0]))\n",
    "l_v = np.stack((lnpgrad_samp[:, 1], lnpgrad_samp_lf[:, 1]))\n",
    "\n",
    "cov_lu = np.cov(l_u)\n",
    "cov_lv = np.cov(l_v)\n",
    "\n",
    "print(cov_lu)\n",
    "print(cov_lv)"
   ]
  },
  {
   "cell_type": "code",
   "execution_count": null,
   "id": "b4339d67",
   "metadata": {},
   "outputs": [],
   "source": [
    "np.corrcoef(l_u), np.corrcoef(l_v)"
   ]
  },
  {
   "cell_type": "code",
   "execution_count": null,
   "id": "dd8fc192",
   "metadata": {},
   "outputs": [],
   "source": [
    "lnpgrad_inter.shape"
   ]
  },
  {
   "cell_type": "code",
   "execution_count": null,
   "id": "d893ba93",
   "metadata": {},
   "outputs": [],
   "source": [
    "n_iter = 1000\n",
    "covs_all_v = np.zeros((2, 2, n_iter))\n",
    "covs_all_u = np.zeros((2, 2, n_iter))\n",
    "cors_all_v = np.zeros((2, 2, n_iter))\n",
    "cors_all_u = np.zeros((2, 2, n_iter))\n",
    "\n",
    "cors_gu = np.zeros((2, 2, n_iter))\n",
    "cors_gv = np.zeros((2, 2, n_iter))\n",
    "\n",
    "grads_hf = np.array(adj_grads)\n",
    "grads_lf = np.array(adj_grads_lf_same)\n",
    "\n",
    "for i in range(n_iter):\n",
    "    l_u = np.stack((lnpgrad_inter[:, 0, i], lnpgrad_lf_same[:, 0, i]))\n",
    "    l_v = np.stack((lnpgrad_inter[:, 1, i], lnpgrad_lf_same[:, 1, i]))\n",
    "    \n",
    "    g_u = np.stack((grads_hf[i, :, 0], grads_lf[i, :, 0]))\n",
    "    g_v = np.stack((grads_hf[i, :, 1], grads_lf[i, :, 1]))\n",
    "    \n",
    "    covs_all_u[:, :, i] = np.cov(l_u)\n",
    "    covs_all_v[:, :, i] = np.cov(l_v)\n",
    "    \n",
    "    cors_all_u[:, :, i] = np.corrcoef(l_u)\n",
    "    cors_all_v[:, :, i] = np.corrcoef(l_v)\n",
    "    \n",
    "    cors_gu[:, :, i] = np.corrcoef(g_u)\n",
    "    cors_gv[:, :, i] = np.corrcoef(g_v)"
   ]
  },
  {
   "cell_type": "code",
   "execution_count": null,
   "id": "1fe00861",
   "metadata": {},
   "outputs": [],
   "source": [
    "sns.heatmap(cors_all_v[:, :, 845],\n",
    "           square=True,\n",
    "           cmap='coolwarm',\n",
    "           annot=True,\n",
    "           fmt='.3f')"
   ]
  },
  {
   "cell_type": "markdown",
   "id": "ee039303",
   "metadata": {},
   "source": [
    "Also plot how the bifidelity correlation is changing over iterations."
   ]
  },
  {
   "cell_type": "code",
   "execution_count": null,
   "id": "a59c6327",
   "metadata": {},
   "outputs": [],
   "source": [
    "plt.plot(np.linspace(1, n_iter, n_iter), cors_all_v[0, 1, :])\n",
    "plt.plot(np.linspace(1, n_iter, n_iter), cors_all_u[0, 1, :])\n",
    "plt.title(\"Correlation of score over all SVGD updates\")"
   ]
  },
  {
   "cell_type": "markdown",
   "id": "5e4e6b39",
   "metadata": {},
   "source": [
    "The problematic aspect is the correlation of the gradients - though this is not revealing by itself, because the gradients are computed without any interaction between the two fidelities and don't have a lot of bearing on how well the method would work."
   ]
  },
  {
   "cell_type": "code",
   "execution_count": null,
   "id": "814353b7",
   "metadata": {},
   "outputs": [],
   "source": [
    "plt.plot(np.linspace(1, n_iter, n_iter), cors_gu[0, 1, :])\n",
    "plt.plot(np.linspace(1, n_iter, n_iter), cors_gv[0, 1, :])\n",
    "plt.title(\"Correlation of gradients over all SVGD updates\")"
   ]
  },
  {
   "cell_type": "code",
   "execution_count": 17,
   "id": "2e618fff",
   "metadata": {},
   "outputs": [
    {
     "data": {
      "text/plain": [
       "(512, 2)"
      ]
     },
     "execution_count": 17,
     "metadata": {},
     "output_type": "execute_result"
    }
   ],
   "source": [
    "post_particles_hf_rk.shape"
   ]
  },
  {
   "cell_type": "code",
   "execution_count": 18,
   "id": "caf2d729",
   "metadata": {},
   "outputs": [
    {
     "data": {
      "image/png": "[encoded data removed]",
      "text/plain": [
       "<Figure size 640x480 with 3 Axes>"
      ]
     },
     "metadata": {},
     "output_type": "display_data"
    }
   ],
   "source": [
    "rv_hf = multivariate_normal(mu_oracle_hf, cov_oracle_hf)\n",
    "rv_lf = multivariate_normal(mu_oracle_lf, cov_oracle_lf)\n",
    "\n",
    "\n",
    "x, y = np.mgrid[-4:4:.01, -4:4:.01]\n",
    "pos = np.dstack((x, y))\n",
    "\n",
    "fig, ax = plt.subplots(1, 3)\n",
    "\n",
    "ax[0].contourf(x, y,\n",
    "             rv_hf.pdf(pos),\n",
    "             cmap='coolwarm')\n",
    "\n",
    "marker_symbol = u'\\u2B2C'\n",
    "\n",
    "# Scatter initial particles\n",
    "ax[0].scatter(initial_particles[:, 0], initial_particles[:, 1],\n",
    "            color=\"white\",\n",
    "            marker=\"$%s$\" % marker_symbol,\n",
    "            s=15,\n",
    "            clip_on=False)\n",
    "\n",
    "ax[0].set_title(\"Initial Positions\")\n",
    "ax[0].set_xlim(-3, 3)\n",
    "ax[0].set_ylim(-3, 3)\n",
    "\n",
    "ax[1].contourf(x, y,\n",
    "             rv_hf.pdf(pos),\n",
    "             cmap='coolwarm')\n",
    "\n",
    "# Scatter initial particles\n",
    "ax[1].scatter(post_particles_all[:, 0, -1], post_particles_all[:, 1, -1],\n",
    "            color=\"white\",\n",
    "            marker=\"$%s$\" % marker_symbol,\n",
    "            s=15,\n",
    "            clip_on=False)\n",
    "ax[1].set_title(\"Final Positions\")\n",
    "ax[1].set_xlim(-4, 4)\n",
    "ax[1].set_ylim(-4, 4)\n",
    "\n",
    "ax[2].contourf(x, y,\n",
    "             rv_lf.pdf(pos),\n",
    "             cmap='coolwarm')\n",
    "\n",
    "# Scatter initial particles\n",
    "# ax[2].scatter(post_particles_lf[:, 0, -1], post_particles_lf[:, 1, -1],\n",
    "#             color=\"white\",\n",
    "#             marker=\"$%s$\" % marker_symbol,\n",
    "#             s=15,\n",
    "#             clip_on=False)\n",
    "# ax[2].set_title(\"Final Positions LF\")\n",
    "ax[2].scatter(post_particles_hf_rk[:, 0], post_particles_hf_rk[:, 1],\n",
    "            color=\"white\",\n",
    "            marker=\"$%s$\" % marker_symbol,\n",
    "            s=15,\n",
    "            clip_on=False)\n",
    "ax[2].set_title(\"Final Positions HF with RK4\")\n",
    "ax[2].set_xlim(-4, 4)\n",
    "ax[2].set_ylim(-4, 4)\n",
    "\n",
    "fig.tight_layout()"
   ]
  },
  {
   "cell_type": "code",
   "execution_count": null,
   "id": "42f4b759",
   "metadata": {},
   "outputs": [],
   "source": []
  },
  {
   "cell_type": "code",
   "execution_count": null,
   "id": "4460b1f3",
   "metadata": {},
   "outputs": [],
   "source": [
    "optimizer = Optimizer(costs, cov_lv)\n",
    "result = optimizer.optimize(algorithm=\"acvmf\", target_cost=204)\n",
    "allocation = result.allocation\n",
    "print(allocation.num_total_samples)\n",
    "model_input_samples = allocation.allocate_samples_to_models(initial_particles)\n",
    "hf_alloc = model_input_samples[0]\n",
    "lf_alloc = model_input_samples[1]\n",
    "\n",
    "plt.scatter(lf_alloc[:, 0], lf_alloc[:, 1],\n",
    "           marker=\"$%s$\" % marker_symbol,\n",
    "           label=\"LF\")\n",
    "\n",
    "plt.scatter(hf_alloc[:, 0], hf_alloc[:, 1],\n",
    "           marker=\"$%s$\" % marker_symbol,\n",
    "           label=\"HF\")"
   ]
  },
  {
   "cell_type": "code",
   "execution_count": null,
   "id": "c84e1e31",
   "metadata": {},
   "outputs": [],
   "source": [
    "optimizer = Optimizer(costs, cov_lv)\n",
    "result = optimizer.optimize(algorithm=\"acvmf\", target_cost=204)\n",
    "allocation = result.allocation\n",
    "print(allocation.num_total_samples)\n",
    "model_input_samples = allocation.allocate_samples_to_models(initial_particles)\n",
    "hf_alloc = model_input_samples[0]\n",
    "lf_alloc = model_input_samples[1]\n",
    "\n",
    "plt.scatter(lf_alloc[:, 0], lf_alloc[:, 1],\n",
    "           marker=\"$%s$\" % marker_symbol,\n",
    "           label=\"LF\")\n",
    "\n",
    "plt.scatter(hf_alloc[:, 0], hf_alloc[:, 1],\n",
    "           marker=\"$%s$\" % marker_symbol,\n",
    "           label=\"HF\")"
   ]
  },
  {
   "cell_type": "code",
   "execution_count": null,
   "id": "cab9b661",
   "metadata": {},
   "outputs": [],
   "source": [
    "result.variance"
   ]
  },
  {
   "cell_type": "markdown",
   "id": "0085375c",
   "metadata": {},
   "source": [
    "Assume we also initialize a separate pilot set of particles to compute a covariance matrix for one component of score function across all iterations of the SVGD method. These matrices will be used to compute stepwise sample allocations and optimal MF estimator at every step with the final larger particle set."
   ]
  },
  {
   "cell_type": "code",
   "execution_count": null,
   "id": "374525fd",
   "metadata": {},
   "outputs": [],
   "source": [
    "sampler2 = qmc.Sobol(d=2, scramble=False)\n",
    "initial_particles2 = sampler.random(n=16)\n",
    "\n",
    "# rescale initial points to lie within -1, 1\n",
    "initial_particles2 = 2 * initial_particles2 - 1"
   ]
  },
  {
   "cell_type": "code",
   "execution_count": null,
   "id": "7677f4e9",
   "metadata": {},
   "outputs": [],
   "source": [
    "pp_init_hf, ls_init_hf, kxy_samp_init_hf, dxkxy_samp_init_hf, lnpgrad_samp_init_hf, adj_grads_init_hf, lnp_init_hf = SVGD_ll().update(initial_particles2,\n",
    "                                                        mvn_dlnprob_hf,\n",
    "                                                        mu_oracle_hf,\n",
    "                                                        cov_oracle_hf,\n",
    "                                                        n_iter=1000,\n",
    "                                                        stepsize=0.01,\n",
    "                                                        return_all=True)\n",
    "\n",
    "pp_init_lf, ls_init_lf, kxy_samp_init_lf, dxkxy_samp_init_lf, lnpgrad_samp_init_lf, adj_grads_init_lf, lnp_init_lf = SVGD_ll().update(initial_particles2,\n",
    "                                                        mvn_dlnprob_lf,\n",
    "                                                        mu_oracle_lf,\n",
    "                                                        cov_oracle_lf,\n",
    "                                                        n_iter=1000,\n",
    "                                                        stepsize=0.01,\n",
    "                                                        return_all=True)"
   ]
  },
  {
   "cell_type": "markdown",
   "id": "ea7a3c30",
   "metadata": {},
   "source": [
    "We need to upgrade the below snippet to calculate correlations for the product of $k$ and $\\nabla \\log p$"
   ]
  },
  {
   "cell_type": "code",
   "execution_count": null,
   "id": "6b2de13a",
   "metadata": {},
   "outputs": [],
   "source": [
    "n_iter = 1000\n",
    "covs_vinit = np.zeros((2, 2, n_iter))\n",
    "covs_uinit = np.zeros((2, 2, n_iter))\n",
    "cors_vinit = np.zeros((2, 2, n_iter))\n",
    "cors_uinit = np.zeros((2, 2, n_iter))\n",
    "\n",
    "for i in range(n_iter):\n",
    "    l_u = np.stack((lnp_init_hf[:, 0, i], lnp_init_lf[:, 0, i]))\n",
    "    l_v = np.stack((lnp_init_hf[:, 1, i], lnp_init_lf[:, 1, i]))\n",
    "        \n",
    "    covs_uinit[:, :, i] = np.cov(l_u)\n",
    "    covs_vinit[:, :, i] = np.cov(l_v)\n",
    "    \n",
    "    cors_uinit[:, :, i] = np.corrcoef(l_u)\n",
    "    cors_vinit[:, :, i] = np.corrcoef(l_v)"
   ]
  },
  {
   "cell_type": "markdown",
   "id": "59772d11",
   "metadata": {},
   "source": [
    "We can recompute the correlations over 16 pilot particles instead of the original 512"
   ]
  },
  {
   "cell_type": "code",
   "execution_count": null,
   "id": "b7c066d6",
   "metadata": {},
   "outputs": [],
   "source": [
    "plt.plot(np.linspace(1, n_iter, n_iter), cors_vinit[0, 1, :])\n",
    "plt.plot(np.linspace(1, n_iter, n_iter), cors_uinit[0, 1, :])\n",
    "plt.title(\"Correlation of PILOT score over all SVGD updates\")"
   ]
  },
  {
   "cell_type": "code",
   "execution_count": null,
   "id": "939d5f71",
   "metadata": {},
   "outputs": [],
   "source": [
    "optimizer = Optimizer(costs, covs_vinit[:, :, 120])\n",
    "result = optimizer.optimize(algorithm=\"acvmf\", target_cost=50)\n",
    "allocation = result.allocation\n",
    "print(allocation.num_total_samples)\n",
    "model_input_samples = allocation.allocate_samples_to_models(initial_particles)\n",
    "hf_alloc = model_input_samples[0]\n",
    "lf_alloc = model_input_samples[1]\n",
    "\n",
    "plt.scatter(lf_alloc[:, 0], lf_alloc[:, 1],\n",
    "           marker=\"$%s$\" % marker_symbol,\n",
    "           label=\"LF\")\n",
    "\n",
    "plt.scatter(hf_alloc[:, 0], hf_alloc[:, 1],\n",
    "           marker=\"$%s$\" % marker_symbol,\n",
    "           label=\"HF\")"
   ]
  },
  {
   "cell_type": "code",
   "execution_count": null,
   "id": "5b7dfbcd",
   "metadata": {},
   "outputs": [],
   "source": [
    "optimizer = Optimizer(costs, covs_vinit[:, :, 200])\n",
    "result = optimizer.optimize(algorithm=\"acvmf\", target_cost=50)\n",
    "allocation = result.allocation\n",
    "print(allocation.num_total_samples)\n",
    "model_input_samples = allocation.allocate_samples_to_models(initial_particles)\n",
    "hf_alloc = model_input_samples[0]\n",
    "lf_alloc = model_input_samples[1]\n",
    "\n",
    "plt.scatter(lf_alloc[:, 0], lf_alloc[:, 1],\n",
    "           marker=\"$%s$\" % marker_symbol,\n",
    "           label=\"LF\")\n",
    "\n",
    "plt.scatter(hf_alloc[:, 0], hf_alloc[:, 1],\n",
    "           marker=\"$%s$\" % marker_symbol,\n",
    "           label=\"HF\")"
   ]
  },
  {
   "cell_type": "code",
   "execution_count": null,
   "id": "3f3bf829",
   "metadata": {},
   "outputs": [],
   "source": [
    "optimizer = Optimizer(costs, covs_vinit[:, :, 600])\n",
    "result = optimizer.optimize(algorithm=\"acvmf\", target_cost=50)\n",
    "allocation = result.allocation\n",
    "print(allocation.num_total_samples)\n",
    "model_input_samples = allocation.allocate_samples_to_models(initial_particles)\n",
    "hf_alloc = model_input_samples[0]\n",
    "lf_alloc = model_input_samples[1]\n",
    "\n",
    "plt.scatter(lf_alloc[:, 0], lf_alloc[:, 1],\n",
    "           marker=\"$%s$\" % marker_symbol,\n",
    "           label=\"LF\")\n",
    "\n",
    "plt.scatter(hf_alloc[:, 0], hf_alloc[:, 1],\n",
    "           marker=\"$%s$\" % marker_symbol,\n",
    "           label=\"HF\")"
   ]
  },
  {
   "cell_type": "markdown",
   "id": "2ccbd262",
   "metadata": {},
   "source": [
    "By keeping the same target cost over every iteration, we can reallocate fidelities over an unchanged cardinality of the set of particles, using updated correlation estimates from pilot sampling."
   ]
  },
  {
   "cell_type": "code",
   "execution_count": null,
   "id": "9944312f",
   "metadata": {},
   "outputs": [],
   "source": [
    "class SVGD_mf():\n",
    "    \"\"\"\n",
    "    Slightly revised SVGD class update function. Instead of updating particle positions directly, only sample allocations\n",
    "    are returned for every iteration, which are then passed to a different method to compute the final gradient estimator and necessary updates.\n",
    "    \"\"\"\n",
    "    def __init__(self):\n",
    "        pass\n",
    "\n",
    "    def svgd_kernel(self, theta, h = -1):\n",
    "        sq_dist = pdist(theta)\n",
    "        pairwise_dists = squareform(sq_dist)**2\n",
    "        if h < 0: # if h < 0, using median trick\n",
    "            h = np.median(pairwise_dists)\n",
    "            h = np.sqrt(0.5 * h / np.log(theta.shape[0]+1))\n",
    "\n",
    "        # compute the rbf kernel\n",
    "        Kxy = np.exp( -pairwise_dists / h**2 / 2)\n",
    "\n",
    "        dxkxy = -np.matmul(Kxy, theta)\n",
    "        sumkxy = np.sum(Kxy, axis=1)\n",
    "        for i in range(theta.shape[1]):\n",
    "            dxkxy[:, i] = dxkxy[:,i] + np.multiply(theta[:,i],sumkxy)\n",
    "        dxkxy = dxkxy / (h**2)\n",
    "        return (Kxy, dxkxy, h)\n",
    "\n",
    "\n",
    "    def eval_grad(self, x0, lnprob, mu, cov, bandwidth=-1, alpha=0.9):\n",
    "        \"\"\"\n",
    "        Evaluate gradient for any one fidelity, over all particles allocated to it.\n",
    "        \"\"\"\n",
    "        theta_all = np.zeros((x0.shape[0], x0.shape[1]))\n",
    "        \n",
    "        \n",
    "    \n",
    "    \n",
    "    def bf_gradients(self, x0, lnprob1,\n",
    "               mu1,\n",
    "               cov1,\n",
    "               lnprob2,\n",
    "               mu2,\n",
    "               cov2,\n",
    "               n_iter = 1000,\n",
    "               stepsize = 1e-3,\n",
    "               bandwidth = -1,\n",
    "               alpha = 0.9,\n",
    "               return_all = False,\n",
    "               debug = False):\n",
    "        # Check input\n",
    "        if x0 is None or lnprob is None:\n",
    "            raise ValueError('x0 or lnprob cannot be None!')\n",
    "\n",
    "        theta_all = np.zeros((x0.shape[0], x0.shape[1], n_iter))\n",
    "        lengthscales_all = np.zeros(n_iter)\n",
    "        theta = np.copy(x0)\n",
    "\n",
    "        # adagrad with momentum\n",
    "        fudge_factor = 1e-6\n",
    "        historical_grad = 0\n",
    "        kxy_final = []\n",
    "        dxkxy_final = []\n",
    "        lnpgrad_final = []\n",
    "        adj_grads = []\n",
    "        for iter in range(n_iter):\n",
    "            if debug and (iter+1) % 1000 == 0:\n",
    "                print('iter ' + str(iter+1))\n",
    "\n",
    "            lnpgrad = lnprob(theta, mu, cov)\n",
    "            # calculating the kernel matrix\n",
    "            kxy, dxkxy, h = self.svgd_kernel(theta, h=-1)\n",
    "            grad_theta = (np.matmul(kxy, lnpgrad) + dxkxy) / x0.shape[0]\n",
    "\n",
    "            lengthscales_all[iter] = h\n",
    "\n",
    "            # adagrad\n",
    "            if iter == 0:\n",
    "                historical_grad = historical_grad + grad_theta ** 2\n",
    "            else:\n",
    "                historical_grad = alpha * historical_grad + (1 - alpha) * (grad_theta ** 2)\n",
    "            adj_grad = np.divide(grad_theta, fudge_factor+np.sqrt(historical_grad))\n",
    "            theta = theta + stepsize * adj_grad\n",
    "\n",
    "            adj_grads.append(adj_grad)\n",
    "            theta_all[:, :, iter] = theta\n",
    "            if iter == n_iter - 1:\n",
    "                kxy_final = kxy\n",
    "                dxkxy_final = dxkxy\n",
    "                lnpgrad_final = lnpgrad\n",
    "        return model_gradients"
   ]
  },
  {
   "cell_type": "code",
   "execution_count": null,
   "id": "14e756c4",
   "metadata": {},
   "outputs": [],
   "source": [
    "estimator = Estimator(allocation, cov_lv)\n",
    "estimate = estimator.get_estimate(model_outputs)"
   ]
  },
  {
   "cell_type": "code",
   "execution_count": null,
   "id": "731b360c",
   "metadata": {},
   "outputs": [],
   "source": []
  },
  {
   "cell_type": "code",
   "execution_count": null,
   "id": "9d5ed77a",
   "metadata": {},
   "outputs": [],
   "source": []
  },
  {
   "cell_type": "code",
   "execution_count": null,
   "id": "2be7444d",
   "metadata": {},
   "outputs": [],
   "source": []
  },
  {
   "cell_type": "code",
   "execution_count": null,
   "id": "255ff038",
   "metadata": {},
   "outputs": [],
   "source": []
  }
 ],
 "metadata": {
  "@webio": {
   "lastCommId": null,
   "lastKernelId": null
  },
  "kernelspec": {
   "display_name": "Python 3 (ipykernel)",
   "language": "python",
   "name": "python3"
  },
  "language_info": {
   "codemirror_mode": {
    "name": "ipython",
    "version": 3
   },
   "file_extension": ".py",
   "mimetype": "text/x-python",
   "name": "python",
   "nbconvert_exporter": "python",
   "pygments_lexer": "ipython3",
   "version": "3.8.13"
  }
 },
 "nbformat": 4,
 "nbformat_minor": 5
}
