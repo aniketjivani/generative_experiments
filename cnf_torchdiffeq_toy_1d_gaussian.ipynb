{
 "cells": [
  {
   "cell_type": "code",
   "execution_count": 1,
   "metadata": {},
   "outputs": [],
   "source": [
    "import os\n",
    "import argparse\n",
    "import glob\n",
    "from PIL import Image\n",
    "import numpy as np\n",
    "import matplotlib\n",
    "\n",
    "import matplotlib.pyplot as plt\n",
    "from sklearn.datasets import make_circles\n",
    "import torch\n",
    "import torch.nn as nn\n",
    "import torch.optim as optim"
   ]
  },
  {
   "cell_type": "code",
   "execution_count": 2,
   "metadata": {},
   "outputs": [],
   "source": [
    "import seaborn as sns"
   ]
  },
  {
   "cell_type": "code",
   "execution_count": 29,
   "metadata": {},
   "outputs": [],
   "source": [
    "parser = argparse.ArgumentParser()\n",
    "parser.add_argument('--adjoint', action='store_true')\n",
    "parser.add_argument('--viz', action='store_true')\n",
    "parser.add_argument('--niters', type=int, default=1000)\n",
    "parser.add_argument('--lr', type=float, default=1e-3)\n",
    "parser.add_argument('--num_samples', type=int, default=512)\n",
    "parser.add_argument('--width', type=int, default=64)\n",
    "parser.add_argument('--hidden_dim', type=int, default=32)\n",
    "parser.add_argument('--gpu', type=int, default=0)\n",
    "parser.add_argument('--train_dir', type=str, default=None)\n",
    "parser.add_argument('--results_dir', type=str, default=\"./results_toy_2d\")\n",
    "parser.add_argument('--problem_dim', type=int, default=1)\n",
    "parser.add_argument('--run_model', type=bool, default=False)\n",
    "args = parser.parse_args(args=())"
   ]
  },
  {
   "cell_type": "code",
   "execution_count": 4,
   "metadata": {},
   "outputs": [],
   "source": [
    "plt.rc(\"axes.spines\", right=True, top=True)\n",
    "plt.rc(\"figure\", dpi=300, \n",
    "       figsize=(9, 3)\n",
    "      )\n",
    "plt.rc(\"font\", family=\"serif\")\n",
    "plt.rc(\"legend\", edgecolor=\"none\", frameon=True)"
   ]
  },
  {
   "cell_type": "code",
   "execution_count": 5,
   "metadata": {},
   "outputs": [],
   "source": [
    "if args.adjoint:\n",
    "    from torchdiffeq import odeint_adjoint as odeint\n",
    "else:\n",
    "    from torchdiffeq import odeint"
   ]
  },
  {
   "cell_type": "code",
   "execution_count": 6,
   "metadata": {},
   "outputs": [
    {
     "data": {
      "text/plain": [
       "device(type='cpu')"
      ]
     },
     "execution_count": 6,
     "metadata": {},
     "output_type": "execute_result"
    }
   ],
   "source": [
    "device = torch.device('cuda:' + str(args.gpu)\n",
    "                          if torch.cuda.is_available() else 'cpu')\n",
    "device"
   ]
  },
  {
   "cell_type": "code",
   "execution_count": 7,
   "metadata": {},
   "outputs": [],
   "source": [
    "class CNF(nn.Module):\n",
    "    \"\"\"Adapted from the NumPy implementation at:\n",
    "    https://gist.github.com/rtqichen/91924063aa4cc95e7ef30b3a5491cc52\n",
    "    \"\"\"\n",
    "    def __init__(self, in_out_dim, hidden_dim, width):\n",
    "        super().__init__()\n",
    "        self.in_out_dim = in_out_dim\n",
    "        self.hidden_dim = hidden_dim\n",
    "        self.width = width\n",
    "        self.hyper_net = HyperNetwork(in_out_dim, hidden_dim, width)\n",
    "\n",
    "    def forward(self, t, states):\n",
    "        z = states[0]\n",
    "        logp_z = states[1]\n",
    "\n",
    "        batchsize = z.shape[0]\n",
    "\n",
    "        with torch.set_grad_enabled(True):\n",
    "            z.requires_grad_(True)\n",
    "\n",
    "            W, B, U = self.hyper_net(t)\n",
    "\n",
    "            Z = torch.unsqueeze(z, 0).repeat(self.width, 1, 1)\n",
    "\n",
    "            h = torch.tanh(torch.matmul(Z, W) + B)\n",
    "            dz_dt = torch.matmul(h, U).mean(0)\n",
    "\n",
    "            dlogp_z_dt = -trace_df_dz(dz_dt, z).view(batchsize, 1)\n",
    "\n",
    "        return (dz_dt, dlogp_z_dt)\n",
    "\n",
    "\n",
    "def trace_df_dz(f, z):\n",
    "    \"\"\"Calculates the trace of the Jacobian df/dz.\n",
    "    Stolen from: https://github.com/rtqichen/ffjord/blob/master/lib/layers/odefunc.py#L13\n",
    "    \"\"\"\n",
    "    sum_diag = 0.\n",
    "    for i in range(z.shape[1]):\n",
    "        sum_diag += torch.autograd.grad(f[:, i].sum(), z, create_graph=True)[0].contiguous()[:, i].contiguous()\n",
    "\n",
    "    return sum_diag.contiguous()\n",
    "\n",
    "\n",
    "class HyperNetwork(nn.Module):\n",
    "    \"\"\"Hyper-network allowing f(z(t), t) to change with time.\n",
    "\n",
    "    Adapted from the NumPy implementation at:\n",
    "    https://gist.github.com/rtqichen/91924063aa4cc95e7ef30b3a5491cc52\n",
    "    \"\"\"\n",
    "    def __init__(self, in_out_dim, hidden_dim, width):\n",
    "        super().__init__()\n",
    "\n",
    "        blocksize = width * in_out_dim\n",
    "\n",
    "        self.fc1 = nn.Linear(1, hidden_dim)\n",
    "        self.fc2 = nn.Linear(hidden_dim, hidden_dim)\n",
    "        self.fc3 = nn.Linear(hidden_dim, 3 * blocksize + width)\n",
    "\n",
    "        self.in_out_dim = in_out_dim\n",
    "        self.hidden_dim = hidden_dim\n",
    "        self.width = width\n",
    "        self.blocksize = blocksize\n",
    "\n",
    "    def forward(self, t):\n",
    "        # predict params\n",
    "        params = t.reshape(1, 1)\n",
    "        params = torch.tanh(self.fc1(params))\n",
    "        params = torch.tanh(self.fc2(params))\n",
    "        params = self.fc3(params)\n",
    "\n",
    "        # restructure\n",
    "        params = params.reshape(-1)\n",
    "        W = params[:self.blocksize].reshape(self.width, self.in_out_dim, 1)\n",
    "\n",
    "        U = params[self.blocksize:2 * self.blocksize].reshape(self.width, 1, self.in_out_dim)\n",
    "\n",
    "        G = params[2 * self.blocksize:3 * self.blocksize].reshape(self.width, 1, self.in_out_dim)\n",
    "        U = U * torch.sigmoid(G)\n",
    "\n",
    "        B = params[3 * self.blocksize:].reshape(self.width, 1, 1)\n",
    "        return [W, B, U]"
   ]
  },
  {
   "cell_type": "code",
   "execution_count": 8,
   "metadata": {},
   "outputs": [],
   "source": [
    "def get_batch(num_samples, problem_dim):\n",
    "    if problem_dim == 2:\n",
    "        points, _ = make_circles(n_samples=num_samples, noise=0.06, factor=0.5)\n",
    "        x = torch.tensor(points).type(torch.float32).to(device)\n",
    "        logp_diff_t1 = torch.zeros(num_samples, 1).type(torch.float32).to(device)\n",
    "        return(x, logp_diff_t1)\n",
    "    elif problem_dim == 1:\n",
    "        # Define the mean of each gaussian\n",
    "        means = np.array([-3.5, 0.0, 3.5])\n",
    "        # Define the weights for each gaussian\n",
    "        weights = np.array([0.2, 0.2, 0.6])\n",
    "        weights /= np.sum(weights)\n",
    "        # randomly choose a gaussian for each sample\n",
    "        components = np.random.choice(means.size, size=num_samples, p=weights)\n",
    "        # sample from the chosen gaussians\n",
    "        points = np.random.normal(means[components], 1, size=num_samples)\n",
    "        return torch.from_numpy(points).float().view(-1, 1).to(device), torch.zeros(num_samples, 1).type(torch.float32).to(device)        "
   ]
  },
  {
   "cell_type": "code",
   "execution_count": 9,
   "metadata": {},
   "outputs": [],
   "source": [
    "# def get_batch_2(num_samples):\n",
    "#     # Define the mean of each gaussian\n",
    "#     means = np.array([-3.5, 0.0, 3.5])\n",
    "#     # Define the weights for each gaussian\n",
    "#     weights = np.array([0.2, 0.2, 0.6])\n",
    "#     weights /= np.sum(weights)\n",
    "#     # randomly choose a gaussian for each sample\n",
    "#     components = np.random.choice(means.size, size=num_samples, p=weights)\n",
    "#     # sample from the chosen gaussians\n",
    "#     points = np.random.normal(means[components], 1, size=num_samples)\n",
    "#     return torch.from_numpy(points).float().view(-1, 1).to(device), \n",
    "# torch.zeros(num_samples, 1).type(torch.float32).to(device)"
   ]
  },
  {
   "cell_type": "code",
   "execution_count": 10,
   "metadata": {},
   "outputs": [],
   "source": [
    "# pts, difft1 = get_batch_2(2000)\n",
    "# sns.histplot(pts, kde=True)"
   ]
  },
  {
   "cell_type": "code",
   "execution_count": 11,
   "metadata": {},
   "outputs": [],
   "source": [
    "t0 = 0\n",
    "t1 = 10"
   ]
  },
  {
   "cell_type": "code",
   "execution_count": null,
   "metadata": {},
   "outputs": [],
   "source": []
  },
  {
   "cell_type": "code",
   "execution_count": 12,
   "metadata": {},
   "outputs": [],
   "source": [
    "if args.problem_dim == 1:\n",
    "    p_z0 = torch.distributions.Normal(\n",
    "    loc=torch.tensor(0.0).to(device),\n",
    "    scale=torch.tensor(1.0).to(device)\n",
    "        )\n",
    "    \n",
    "#     x, logp_diff_t1 = get_batch_2(args.num_samples)\n",
    "else:\n",
    "    p_z0 = torch.distributions.MultivariateNormal(\n",
    "        loc=torch.tensor([0.0, 0.0]).to(device),\n",
    "        covariance_matrix=torch.tensor([[0.1, 0.0], [0.0, 0.1]]).to(device)\n",
    "        )\n",
    "#     x, logp_diff_t1 = get_batch(args.num_samples)"
   ]
  },
  {
   "cell_type": "code",
   "execution_count": 13,
   "metadata": {},
   "outputs": [],
   "source": [
    "func = CNF(in_out_dim=args.problem_dim, hidden_dim=args.hidden_dim, width=args.width).to(device)\n",
    "optimizer = optim.Adam(func.parameters(), lr=args.lr)"
   ]
  },
  {
   "cell_type": "code",
   "execution_count": 14,
   "metadata": {},
   "outputs": [],
   "source": [
    "# z_t, logp_diff_t = odeint(\n",
    "#                 func,\n",
    "#                 (x, logp_diff_t1),\n",
    "#                 torch.tensor([t1, t0]).type(torch.float32).to(device),\n",
    "#                 atol=1e-5,\n",
    "#                 rtol=1e-5,\n",
    "#                 method='dopri5',\n",
    "#             )"
   ]
  },
  {
   "cell_type": "code",
   "execution_count": 15,
   "metadata": {},
   "outputs": [],
   "source": [
    "# z_t0, logp_diff_t0 = z_t[-1], logp_diff_t[-1]\n",
    "\n",
    "# if args.problem_dim == 1:\n",
    "#     logp_x = p_z0.log_prob(z_t0).to(device).view(-1) - logp_diff_t0.view(-1)\n",
    "# else:\n",
    "#     logp_x = p_z0.log_prob(z_t0).to(device) - logp_diff_t0.view(-1)"
   ]
  },
  {
   "cell_type": "code",
   "execution_count": 16,
   "metadata": {},
   "outputs": [],
   "source": [
    "# p_z0.log_prob(z_t0).shape"
   ]
  },
  {
   "cell_type": "code",
   "execution_count": 17,
   "metadata": {},
   "outputs": [],
   "source": [
    "# z_t0.shape # 512, 2"
   ]
  },
  {
   "cell_type": "code",
   "execution_count": 18,
   "metadata": {},
   "outputs": [],
   "source": [
    "# logp_diff_t0.shape # 512, 1"
   ]
  },
  {
   "cell_type": "code",
   "execution_count": 19,
   "metadata": {},
   "outputs": [],
   "source": [
    "# logp_diff_t0.view(-1).shape # 512"
   ]
  },
  {
   "cell_type": "code",
   "execution_count": 20,
   "metadata": {},
   "outputs": [],
   "source": [
    "# logp_x.shape # 512"
   ]
  },
  {
   "cell_type": "code",
   "execution_count": 21,
   "metadata": {},
   "outputs": [],
   "source": [
    "# loss = -logp_x.mean(0) # single value tensor"
   ]
  },
  {
   "cell_type": "code",
   "execution_count": 22,
   "metadata": {},
   "outputs": [],
   "source": [
    "# loss"
   ]
  },
  {
   "cell_type": "code",
   "execution_count": 33,
   "metadata": {},
   "outputs": [],
   "source": [
    "if args.run_model:\n",
    "    for itr in range(1, args.niters + 1):\n",
    "        optimizer.zero_grad()\n",
    "\n",
    "        x, logp_diff_t1 = get_batch(args.num_samples, args.problem_dim)\n",
    "\n",
    "        z_t, logp_diff_t = odeint(\n",
    "            func,\n",
    "            (x, logp_diff_t1),\n",
    "            torch.tensor([t1, t0]).type(torch.float32).to(device),\n",
    "            atol=1e-5,\n",
    "            rtol=1e-5,\n",
    "            method='dopri5',\n",
    "        )\n",
    "\n",
    "        z_t0, logp_diff_t0 = z_t[-1], logp_diff_t[-1]\n",
    "\n",
    "        if args.problem_dim == 1:\n",
    "            logp_x = p_z0.log_prob(z_t0).to(device).view(-1) - logp_diff_t0.view(-1)\n",
    "        else:\n",
    "            logp_x = p_z0.log_prob(z_t0).to(device) - logp_diff_t0.view(-1)\n",
    "\n",
    "        loss = -logp_x.mean(0)\n",
    "\n",
    "        loss.backward()\n",
    "        optimizer.step()\n",
    "\n",
    "        #     loss_meter.update(loss.item())\n",
    "\n",
    "        #     print('Iter: {}, running avg loss: {:.4f}'.format(itr, loss_meter.avg))\n",
    "        print('Iter: {}, running avg loss: {:.4f}'.format(itr, loss.item()))\n",
    "else:\n",
    "    func = CNF(in_out_dim=args.problem_dim, hidden_dim=args.hidden_dim, width=args.width).to(device)\n",
    "    func.load_state_dict(torch.load(\"./ffjord_toy_1d.pt\"))"
   ]
  },
  {
   "cell_type": "code",
   "execution_count": 34,
   "metadata": {},
   "outputs": [
    {
     "data": {
      "text/plain": [
       "CNF(\n",
       "  (hyper_net): HyperNetwork(\n",
       "    (fc1): Linear(in_features=1, out_features=32, bias=True)\n",
       "    (fc2): Linear(in_features=32, out_features=32, bias=True)\n",
       "    (fc3): Linear(in_features=32, out_features=256, bias=True)\n",
       "  )\n",
       ")"
      ]
     },
     "execution_count": 34,
     "metadata": {},
     "output_type": "execute_result"
    }
   ],
   "source": [
    "func"
   ]
  },
  {
   "cell_type": "code",
   "execution_count": null,
   "metadata": {},
   "outputs": [],
   "source": []
  },
  {
   "cell_type": "code",
   "execution_count": 30,
   "metadata": {},
   "outputs": [],
   "source": [
    "# torch.save(func.state_dict(), \"./ffjord_toy_1d.pt\")"
   ]
  },
  {
   "cell_type": "code",
   "execution_count": null,
   "metadata": {},
   "outputs": [],
   "source": [
    "#     def plt_flow_1D(prior_logdensity, transform, ax, npts=1000, title=\"$q(x)$\", device=\"cpu\"):\n",
    "#     z = torch.linspace(LOW, HIGH, npts).unsqueeze(1).to(device)\n",
    "#     z.requires_grad_(True)\n",
    "#     logqz = prior_logdensity(z)\n",
    "\n",
    "#     z0 = z.clone().detach().requires_grad_(True)\n",
    "#     logqz = transform.forward(0, (z0, logqz))[0].detach()\n",
    "#     z0 = z0.detach()\n",
    "\n",
    "#     f, = torch.autograd.grad(logqz.sum(), z0)\n",
    "\n",
    "#     ax.quiver(z.cpu().numpy(), torch.zeros(npts), f.cpu().numpy(), torch.ones(npts), color='b')\n",
    "#     ax.set_title(title)\n",
    "\n",
    "# fig, ax = plt.subplots(1, 1, figsize=(5, 1))\n",
    "# plt_flow_1D(prior_logdensity, transform, ax)"
   ]
  },
  {
   "cell_type": "code",
   "execution_count": 28,
   "metadata": {},
   "outputs": [
    {
     "data": {
      "text/plain": [
       "<Axes: ylabel='Count'>"
      ]
     },
     "execution_count": 28,
     "metadata": {},
     "output_type": "execute_result"
    },
    {
     "data": {
      "image/png": "[encoded data removed]",
      "text/plain": [
       "<Figure size 2700x900 with 1 Axes>"
      ]
     },
     "metadata": {},
     "output_type": "display_data"
    }
   ],
   "source": [
    "pts, difft1 = get_batch(2000, args.problem_dim)\n",
    "sns.histplot(pts, kde=True)"
   ]
  },
  {
   "cell_type": "code",
   "execution_count": null,
   "metadata": {},
   "outputs": [],
   "source": [
    "# def visualize_transform(\n",
    "#     potential_or_samples, prior_sample, prior_density, transform=None, inverse_transform=None, samples=True, npts=100,\n",
    "#     memory=100, device=\"cpu\"\n",
    "# ):\n",
    "#     \"\"\"Produces visualization for the model density and samples from the model.\"\"\"\n",
    "#     plt.clf()\n",
    "#     ax = plt.subplot(1, 3, 1, aspect=\"equal\")\n",
    "#     if samples:\n",
    "#         plt_samples(potential_or_samples, ax, npts=npts)\n",
    "#     else:\n",
    "#         plt_potential_func(potential_or_samples, ax, npts=npts)\n",
    "\n",
    "#     ax = plt.subplot(1, 3, 2, aspect=\"equal\")\n",
    "#     if inverse_transform is None:\n",
    "#         plt_flow(prior_density, transform, ax, npts=npts, device=device)\n",
    "#     else:\n",
    "#         plt_flow_density(prior_density, inverse_transform, ax, npts=npts, memory=memory, device=device)\n",
    "\n",
    "#     ax = plt.subplot(1, 3, 3, aspect=\"equal\")\n",
    "#     if transform is not None:\n",
    "#         plt_flow_samples(prior_sample, transform, ax, npts=npts, memory=memory, device=device)"
   ]
  },
  {
   "cell_type": "code",
   "execution_count": 35,
   "metadata": {},
   "outputs": [],
   "source": [
    "# def plt_flow_samples(prior_sample, transform, ax, npts=100, memory=100, title=\"$x ~ q(x)$\", device=\"cpu\"):\n",
    "#     z = prior_sample(npts * npts, 2).type(torch.float32).to(device)\n",
    "#     zk = []\n",
    "#     inds = torch.arange(0, z.shape[0]).to(torch.int64)\n",
    "#     for ii in torch.split(inds, int(memory**2)):\n",
    "#         zk.append(transform(z[ii]))\n",
    "#     zk = torch.cat(zk, 0).cpu().numpy()\n",
    "#     ax.hist2d(zk[:, 0], zk[:, 1], range=[[LOW, HIGH], [LOW, HIGH]], bins=npts)\n",
    "#     ax.invert_yaxis()\n",
    "#     ax.get_xaxis().set_ticks([])\n",
    "#     ax.get_yaxis().set_ticks([])\n",
    "#     ax.set_title(title)"
   ]
  },
  {
   "cell_type": "code",
   "execution_count": null,
   "metadata": {},
   "outputs": [],
   "source": [
    "# LOW = -4\n",
    "# HIGH = 4\n",
    "\n",
    "\n",
    "# def plt_potential_func(potential, ax, npts=100, title=\"$p(x)$\"):\n",
    "#     \"\"\"\n",
    "#     Args:\n",
    "#         potential: computes U(z_k) given z_k\n",
    "#     \"\"\"\n",
    "#     xside = np.linspace(LOW, HIGH, npts)\n",
    "#     yside = np.linspace(LOW, HIGH, npts)\n",
    "#     xx, yy = np.meshgrid(xside, yside)\n",
    "#     z = np.hstack([xx.reshape(-1, 1), yy.reshape(-1, 1)])\n",
    "\n",
    "#     z = torch.Tensor(z)\n",
    "#     u = potential(z).cpu().numpy()\n",
    "#     p = np.exp(-u).reshape(npts, npts)\n",
    "\n",
    "#     plt.pcolormesh(xx, yy, p)\n",
    "#     ax.invert_yaxis()\n",
    "#     ax.get_xaxis().set_ticks([])\n",
    "#     ax.get_yaxis().set_ticks([])\n",
    "#     ax.set_title(title)\n"
   ]
  }
 ],
 "metadata": {
  "@webio": {
   "lastCommId": null,
   "lastKernelId": null
  },
  "kernelspec": {
   "display_name": "Python 3 (ipykernel)",
   "language": "python",
   "name": "python3"
  },
  "language_info": {
   "codemirror_mode": {
    "name": "ipython",
    "version": 3
   },
   "file_extension": ".py",
   "mimetype": "text/x-python",
   "name": "python",
   "nbconvert_exporter": "python",
   "pygments_lexer": "ipython3",
   "version": "3.8.13"
  }
 },
 "nbformat": 4,
 "nbformat_minor": 4
}
